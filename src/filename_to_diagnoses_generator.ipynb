{
 "cells": [
  {
   "cell_type": "code",
   "execution_count": 1,
   "metadata": {},
   "outputs": [],
   "source": [
    "import os\n",
    "import pandas as pd"
   ]
  },
  {
   "cell_type": "code",
   "execution_count": 2,
   "metadata": {},
   "outputs": [
    {
     "name": "stdout",
     "output_type": "stream",
     "text": [
      "['101_1b1_Al_sc_Meditron', '101_1b1_Pr_sc_Meditron', '102_1b1_Ar_sc_Meditron', '103_2b2_Ar_mc_LittC2SE', '104_1b1_Al_sc_Litt3200', '104_1b1_Ar_sc_Litt3200', '104_1b1_Ll_sc_Litt3200', '104_1b1_Lr_sc_Litt3200', '104_1b1_Pl_sc_Litt3200', '104_1b1_Pr_sc_Litt3200', '105_1b1_Tc_sc_Meditron', '106_2b1_Pl_mc_LittC2SE', '106_2b1_Pr_mc_LittC2SE', '107_2b3_Al_mc_AKGC417L', '107_2b3_Ar_mc_AKGC417L', '107_2b3_Ll_mc_AKGC417L', '107_2b3_Lr_mc_AKGC417L', '107_2b3_Pl_mc_AKGC417L', '107_2b3_Pr_mc_AKGC417L', '107_2b3_Tc_mc_AKGC417L', '107_2b4_Al_mc_AKGC417L', '107_2b4_Ar_mc_AKGC417L', '107_2b4_Ll_mc_AKGC417L', '107_2b4_Lr_mc_AKGC417L', '107_2b4_Pl_mc_AKGC417L', '107_2b4_Pr_mc_AKGC417L', '107_2b4_Tc_mc_AKGC417L', '107_2b5_Al_mc_AKGC417L', '107_2b5_Ar_mc_AKGC417L', '107_2b5_Ll_mc_AKGC417L', '107_2b5_Lr_mc_AKGC417L', '107_2b5_Pl_mc_AKGC417L', '107_2b5_Pr_mc_AKGC417L', '107_2b5_Tc_mc_AKGC417L', '107_3p2_Al_mc_AKGC417L', '107_3p2_Ar_mc_AKGC417L', '107_3p2_Ll_mc_AKGC417L', '107_3p2_Lr_mc_AKGC417L', '107_3p2_Pl_mc_AKGC417L', '107_3p2_Pr_mc_AKGC417L', '107_3p2_Tc_mc_AKGC417L', '108_1b1_Al_sc_Meditron', '109_1b1_Al_sc_Litt3200', '109_1b1_Ar_sc_Litt3200', '109_1b1_Ll_sc_Litt3200', '109_1b1_Lr_sc_Litt3200', '109_1b1_Pl_sc_Litt3200', '109_1b1_Pr_sc_Litt3200', '110_1b1_Pr_sc_Meditron', '110_1p1_Al_sc_Meditron', '110_1p1_Ll_sc_Meditron', '110_1p1_Lr_sc_Meditron', '110_1p1_Pr_sc_Meditron', '111_1b2_Tc_sc_Meditron', '111_1b3_Tc_sc_Meditron', '112_1b1_Ar_sc_Meditron', '112_1b1_Lr_sc_Meditron', '112_1p1_Ll_sc_Litt3200', '112_1p1_Pl_sc_Litt3200', '112_1p1_Pr_sc_Litt3200', '113_1b1_Al_sc_Litt3200', '113_1b1_Ar_sc_Litt3200', '113_1b1_Ll_sc_Litt3200', '113_1b1_Lr_sc_Litt3200', '113_1b1_Pl_sc_Litt3200', '113_1b1_Pr_sc_Litt3200', '114_1b4_Al_mc_AKGC417L', '114_1b4_Ar_mc_AKGC417L', '114_1b4_Lr_mc_AKGC417L', '114_1b4_Pl_mc_AKGC417L', '114_1b4_Pr_mc_AKGC417L', '115_1b1_Ar_sc_Meditron', '116_1b2_Pl_sc_Meditron', '116_1b2_Tc_sc_Meditron', '117_1b2_Tc_mc_LittC2SE', '117_1b3_Tc_mc_LittC2SE', '118_1b1_Al_sc_Litt3200', '118_1b1_Ar_sc_Litt3200', '118_1b1_Ll_sc_Litt3200', '118_1b1_Lr_sc_Litt3200', '118_1b1_Pl_sc_Litt3200', '118_1b1_Pr_sc_Litt3200', '119_1b1_Ar_sc_Meditron', '120_1b1_Al_sc_Meditron', '120_1b1_Ar_sc_Meditron', '120_1b1_Lr_sc_Meditron', '120_1b1_Pl_sc_Meditron', '120_1b1_Pr_sc_Meditron', '121_1b1_Tc_sc_Meditron', '121_1p1_Tc_sc_Meditron', '122_2b1_Al_mc_LittC2SE', '122_2b1_Ar_mc_LittC2SE', '122_2b1_Tc_mc_LittC2SE', '122_2b2_Al_mc_LittC2SE', '122_2b2_Ar_mc_LittC2SE', '122_2b2_Tc_mc_LittC2SE', '122_2b3_Al_mc_LittC2SE', '122_2b3_Ar_mc_LittC2SE', '122_2b3_Tc_mc_LittC2SE', '123_1b1_Al_sc_Meditron', '124_1b1_Al_sc_Litt3200', '124_1b1_Ar_sc_Litt3200', '124_1b1_Ll_sc_Litt3200', '124_1b1_Lr_sc_Litt3200', '124_1b1_Pl_sc_Litt3200', '124_1b1_Pr_sc_Litt3200', '125_1b1_Tc_sc_Meditron', '126_1b1_Al_sc_Meditron', '127_1b1_Ar_sc_Meditron', '128_1b3_Tc_mc_LittC2SE', '129_1b1_Ar_sc_Meditron', '130_1p2_Al_mc_AKGC417L', '130_1p2_Ar_mc_AKGC417L', '130_1p2_Ll_mc_AKGC417L', '130_1p2_Lr_mc_AKGC417L', '130_1p2_Pl_mc_AKGC417L', '130_1p2_Pr_mc_AKGC417L', '130_1p2_Tc_mc_AKGC417L', '130_1p3_Al_mc_AKGC417L', '130_1p3_Ar_mc_AKGC417L', '130_1p3_Ll_mc_AKGC417L', '130_1p3_Lr_mc_AKGC417L', '130_1p3_Pl_mc_AKGC417L', '130_1p3_Pr_mc_AKGC417L', '130_1p3_Tc_mc_AKGC417L', '130_1p4_Al_mc_AKGC417L', '130_1p4_Ar_mc_AKGC417L', '130_1p4_Ll_mc_AKGC417L', '130_1p4_Lr_mc_AKGC417L', '130_1p4_Pl_mc_AKGC417L', '130_1p4_Pr_mc_AKGC417L', '130_1p4_Tc_mc_AKGC417L', '130_2b2_Al_mc_AKGC417L', '130_2b2_Ar_mc_AKGC417L', '130_2b2_Ll_mc_AKGC417L', '130_2b2_Lr_mc_AKGC417L', '130_2b2_Pl_mc_AKGC417L', '130_2b2_Pr_mc_AKGC417L', '130_2b2_Tc_mc_AKGC417L', '130_2b3_Al_mc_AKGC417L', '130_2b3_Ar_mc_AKGC417L', '130_2b3_Ll_mc_AKGC417L', '130_2b3_Lr_mc_AKGC417L', '130_2b3_Pl_mc_AKGC417L', '130_2b3_Pr_mc_AKGC417L', '130_2b3_Tc_mc_AKGC417L', '130_2b4_Al_mc_AKGC417L', '130_2b4_Ar_mc_AKGC417L', '130_2b4_Ll_mc_AKGC417L', '130_2b4_Lr_mc_AKGC417L', '130_2b4_Pl_mc_AKGC417L', '130_2p3_Pl_mc_AKGC417L', '130_2p5_Al_mc_AKGC417L', '130_2p5_Ar_mc_AKGC417L', '130_2p5_Lr_mc_AKGC417L', '130_2p5_Pl_mc_AKGC417L', '130_2p5_Pr_mc_AKGC417L', '130_2p5_Tc_mc_AKGC417L', '130_3b3_Ll_mc_AKGC417L', '130_3b4_Al_mc_AKGC417L', '130_3b4_Ar_mc_AKGC417L', '130_3b4_Lr_mc_AKGC417L', '130_3b4_Pl_mc_AKGC417L', '130_3b4_Pr_mc_AKGC417L', '130_3p2_Al_mc_AKGC417L', '130_3p2_Ar_mc_AKGC417L', '130_3p2_Pl_mc_AKGC417L', '130_3p2_Pr_mc_AKGC417L', '130_3p2_Tc_mc_AKGC417L', '130_3p3_Al_mc_AKGC417L', '130_3p3_Pl_mc_AKGC417L', '130_3p3_Pr_mc_AKGC417L', '130_3p3_Tc_mc_AKGC417L', '130_3p4_Al_mc_AKGC417L', '130_3p4_Pl_mc_AKGC417L', '130_3p4_Pr_mc_AKGC417L', '130_3p4_Tc_mc_AKGC417L', '131_1b1_Al_sc_Meditron', '132_2b1_Lr_mc_LittC2SE', '132_2b2_Lr_mc_LittC2SE', '133_2p2_Al_mc_AKGC417L', '133_2p2_Ar_mc_AKGC417L', '133_2p2_Pl_mc_AKGC417L', '133_2p2_Tc_mc_AKGC417L', '133_2p3_Al_mc_AKGC417L', '133_2p3_Ar_mc_AKGC417L', '133_2p3_Pl_mc_AKGC417L', '133_2p3_Pr_mc_AKGC417L', '133_2p3_Tc_mc_AKGC417L', '133_2p4_Al_mc_AKGC417L', '133_2p4_Ar_mc_AKGC417L', '133_2p4_Pl_mc_AKGC417L', '133_2p4_Pr_mc_AKGC417L', '133_2p4_Tc_mc_AKGC417L', '133_3p2_Al_mc_AKGC417L', '133_3p2_Ar_mc_AKGC417L', '133_3p2_Pl_mc_AKGC417L', '133_3p2_Pr_mc_AKGC417L', '133_3p4_Tc_mc_AKGC417L', '134_2b1_Al_mc_LittC2SE', '134_2b1_Ar_mc_LittC2SE', '134_2b2_Al_mc_LittC2SE', '134_2b2_Ar_mc_LittC2SE', '134_2b3_Ar_mc_LittC2SE', '135_2b1_Al_mc_LittC2SE', '135_2b1_Ar_mc_LittC2SE', '135_2b1_Pl_mc_LittC2SE', '135_2b1_Tc_mc_LittC2SE', '135_2b2_Al_mc_LittC2SE', '135_2b2_Ar_mc_LittC2SE', '135_2b2_Pl_mc_LittC2SE', '135_2b2_Tc_mc_LittC2SE', '135_2b3_Al_mc_LittC2SE', '135_2b3_Ar_mc_LittC2SE', '135_2b3_Pl_mc_LittC2SE', '135_2b3_Pr_mc_LittC2SE', '135_2b3_Tc_mc_LittC2SE', '136_1b1_Ar_sc_Meditron', '137_1b1_Ar_sc_Meditron', '137_1b1_Ll_sc_Meditron', '138_1p2_Al_mc_AKGC417L', '138_1p2_Ar_mc_AKGC417L', '138_1p2_Ll_mc_AKGC417L', '138_1p2_Lr_mc_AKGC417L', '138_1p2_Pl_mc_AKGC417L', '138_1p2_Pr_mc_AKGC417L', '138_1p2_Tc_mc_AKGC417L', '138_1p3_Al_mc_AKGC417L', '138_1p3_Ar_mc_AKGC417L', '138_1p3_Ll_mc_AKGC417L', '138_1p3_Lr_mc_AKGC417L', '138_1p3_Pl_mc_AKGC417L', '138_1p3_Pr_mc_AKGC417L', '138_1p3_Tc_mc_AKGC417L', '138_1p4_Ar_mc_AKGC417L', '138_1p4_Ll_mc_AKGC417L', '138_1p4_Lr_mc_AKGC417L', '138_1p4_Pl_mc_AKGC417L', '138_1p4_Pr_mc_AKGC417L', '138_1p4_Tc_mc_AKGC417L', '138_2p2_Al_mc_AKGC417L', '138_2p2_Ar_mc_AKGC417L', '138_2p2_Ll_mc_AKGC417L', '138_2p2_Lr_mc_AKGC417L', '138_2p2_Pl_mc_AKGC417L', '138_2p2_Pr_mc_AKGC417L', '138_2p2_Tc_mc_AKGC417L', '139_1b1_Al_sc_Litt3200', '139_1b1_Ar_sc_Litt3200', '139_1b1_Ll_sc_Litt3200', '139_1b1_Lr_sc_Litt3200', '139_1b1_Pl_sc_Litt3200', '139_1b1_Pr_sc_Litt3200', '140_2b2_Ll_mc_LittC2SE', '140_2b2_Tc_mc_LittC2SE', '140_2b3_Ll_mc_LittC2SE', '140_2b3_Tc_mc_LittC2SE', '141_1b1_Pr_mc_LittC2SE', '141_1b2_Ar_mc_LittC2SE', '141_1b2_Lr_mc_LittC2SE', '141_1b2_Pr_mc_LittC2SE', '141_1b2_Tc_mc_LittC2SE', '141_1b3_Al_mc_LittC2SE', '141_1b3_Ar_mc_LittC2SE', '141_1b3_Pr_mc_LittC2SE', '142_1b1_Pl_mc_LittC2SE', '143_1b1_Al_sc_Meditron', '144_1b1_Al_sc_Meditron', '144_1b1_Tc_sc_Meditron', '145_2b2_Al_mc_AKGC417L', '145_2b2_Ar_mc_AKGC417L', '145_2b2_Lr_mc_AKGC417L', '145_2b2_Pr_mc_AKGC417L', '145_3b2_Ar_mc_AKGC417L', '145_3b2_Lr_mc_AKGC417L', '145_3b4_Pl_mc_AKGC417L', '146_2b2_Pl_mc_AKGC417L', '146_2b4_Al_mc_AKGC417L', '146_2b4_Ar_mc_AKGC417L', '146_2b4_Ll_mc_AKGC417L', '146_2b4_Lr_mc_AKGC417L', '146_2b4_Pr_mc_AKGC417L', '146_8p3_Al_mc_AKGC417L', '146_8p3_Ar_mc_AKGC417L', '146_8p3_Lr_mc_AKGC417L', '146_8p3_Pl_mc_AKGC417L', '146_8p3_Pr_mc_AKGC417L', '147_1b2_Tc_mc_AKGC417L', '147_1b3_Tc_mc_AKGC417L', '147_1b4_Tc_mc_AKGC417L', '147_2b2_Al_mc_AKGC417L', '147_2b2_Ar_mc_AKGC417L', '147_2b2_Pl_mc_AKGC417L', '147_2b3_Al_mc_AKGC417L', '147_2b3_Ar_mc_AKGC417L', '147_2b3_Ll_mc_AKGC417L', '147_2b3_Lr_mc_AKGC417L', '147_2b3_Pl_mc_AKGC417L', '147_2b4_Al_mc_AKGC417L', '147_2b4_Ar_mc_AKGC417L', '147_2b4_Ll_mc_AKGC417L', '147_2b4_Lr_mc_AKGC417L', '147_2b4_Pl_mc_AKGC417L', '148_1b1_Al_sc_Meditron', '149_1b1_Al_sc_Meditron', '149_1b1_Lr_sc_Meditron', '149_1b1_Pl_sc_Meditron', '150_1b2_Al_sc_Meditron', '151_2p2_Al_mc_AKGC417L', '151_2p2_Ar_mc_AKGC417L', '151_2p2_Ll_mc_AKGC417L', '151_2p2_Lr_mc_AKGC417L', '151_2p2_Pl_mc_AKGC417L', '151_2p2_Pr_mc_AKGC417L', '151_2p2_Tc_mc_AKGC417L', '151_2p3_Al_mc_AKGC417L', '151_2p3_Ar_mc_AKGC417L', '151_2p3_Ll_mc_AKGC417L', '151_2p3_Lr_mc_AKGC417L', '151_2p3_Pl_mc_AKGC417L', '151_2p3_Pr_mc_AKGC417L', '151_2p3_Tc_mc_AKGC417L', '151_2p4_Al_mc_AKGC417L', '151_2p4_Ar_mc_AKGC417L', '151_2p4_Ll_mc_AKGC417L', '151_2p4_Lr_mc_AKGC417L', '151_2p4_Pl_mc_AKGC417L', '151_2p4_Pr_mc_AKGC417L', '151_2p4_Tc_mc_AKGC417L', '151_3p2_Al_mc_AKGC417L', '151_3p2_Ar_mc_AKGC417L', '151_3p2_Lr_mc_AKGC417L', '151_3p2_Pl_mc_AKGC417L', '151_3p2_Pr_mc_AKGC417L', '151_3p2_Tc_mc_AKGC417L', '151_3p3_Ll_mc_AKGC417L', '152_1b1_Al_sc_Meditron', '153_1b1_Al_sc_Meditron', '154_1b3_Al_mc_AKGC417L', '154_1b3_Ar_mc_AKGC417L', '154_1b3_Ll_mc_AKGC417L', '154_1b3_Lr_mc_AKGC417L', '154_1b3_Pl_mc_AKGC417L', '154_1b3_Pr_mc_AKGC417L', '154_1b3_Tc_mc_AKGC417L', '154_2b4_Al_mc_AKGC417L', '154_2b4_Ar_mc_AKGC417L', '154_2b4_Ll_mc_AKGC417L', '154_2b4_Lr_mc_AKGC417L', '154_2b4_Pl_mc_AKGC417L', '154_2b4_Pr_mc_AKGC417L', '154_2b4_Tc_mc_AKGC417L', '154_3b3_Al_mc_AKGC417L', '154_3b3_Ar_mc_AKGC417L', '154_3b3_Ll_mc_AKGC417L', '154_4b4_Al_mc_AKGC417L', '154_4b4_Ar_mc_AKGC417L', '154_4b4_Ll_mc_AKGC417L', '154_4b4_Lr_mc_AKGC417L', '154_4b4_Pl_mc_AKGC417L', '154_4b4_Pr_mc_AKGC417L', '155_2b1_Al_mc_LittC2SE', '156_2b3_Al_mc_AKGC417L', '156_2b3_Ar_mc_AKGC417L', '156_2b3_Ll_mc_AKGC417L', '156_2b3_Lr_mc_AKGC417L', '156_2b3_Pl_mc_AKGC417L', '156_2b3_Pr_mc_AKGC417L', '156_5b3_Al_mc_AKGC417L', '156_5b3_Ar_mc_AKGC417L', '156_5b3_Ll_mc_AKGC417L', '156_5b3_Lr_mc_AKGC417L', '156_5b3_Pl_mc_AKGC417L', '156_5b3_Pr_mc_AKGC417L', '156_8b3_Al_mc_AKGC417L', '156_8b3_Ar_mc_AKGC417L', '156_8b3_Ll_mc_AKGC417L', '156_8b3_Lr_mc_AKGC417L', '156_8b3_Pl_mc_AKGC417L', '157_1b1_Al_sc_Meditron', '157_1b1_Ar_sc_Meditron', '157_1b1_Lr_sc_Meditron', '157_1b1_Pl_sc_Meditron', '157_1b1_Pr_sc_Meditron', '158_1b3_Ar_mc_LittC2SE', '158_1p2_Al_mc_AKGC417L', '158_1p2_Ar_mc_AKGC417L', '158_1p2_Ll_mc_AKGC417L', '158_1p2_Lr_mc_AKGC417L', '158_1p2_Pl_mc_AKGC417L', '158_1p2_Pr_mc_AKGC417L', '158_1p2_Tc_mc_AKGC417L', '158_1p3_Al_mc_AKGC417L', '158_1p3_Ar_mc_AKGC417L', '158_1p3_Ll_mc_AKGC417L', '158_1p3_Lr_mc_AKGC417L', '158_1p3_Pl_mc_AKGC417L', '158_1p3_Pr_mc_AKGC417L', '158_1p3_Tc_mc_AKGC417L', '158_1p4_Al_mc_AKGC417L', '158_1p4_Ar_mc_AKGC417L', '158_1p4_Lr_mc_AKGC417L', '158_1p4_Pl_mc_AKGC417L', '158_1p4_Pr_mc_AKGC417L', '158_1p4_Tc_mc_AKGC417L', '158_2p2_Ar_mc_AKGC417L', '158_2p3_Lr_mc_AKGC417L', '158_2p3_Tc_mc_AKGC417L', '159_1b1_Al_sc_Meditron', '159_1b1_Ar_sc_Meditron', '159_1b1_Ll_sc_Meditron', '159_1b1_Pr_sc_Meditron', '160_1b2_Al_mc_AKGC417L', '160_1b2_Ar_mc_AKGC417L', '160_1b2_Lr_mc_AKGC417L', '160_1b2_Pl_mc_AKGC417L', '160_1b2_Pr_mc_AKGC417L', '160_1b2_Tc_mc_AKGC417L', '160_1b3_Al_mc_AKGC417L', '160_1b3_Ar_mc_AKGC417L', '160_1b3_Lr_mc_AKGC417L', '160_1b3_Pl_mc_AKGC417L', '160_1b3_Pr_mc_AKGC417L', '160_1b3_Tc_mc_AKGC417L', '160_1b4_Al_mc_AKGC417L', '160_1b4_Ar_mc_AKGC417L', '160_1b4_Lr_mc_AKGC417L', '160_1b4_Pl_mc_AKGC417L', '160_1b4_Pr_mc_AKGC417L', '160_1b4_Tc_mc_AKGC417L', '160_2b3_Lr_mc_AKGC417L', '160_2b4_Ar_mc_AKGC417L', '160_2b4_Pl_mc_AKGC417L', '160_2b4_Pr_mc_AKGC417L', '160_2b4_Tc_mc_AKGC417L', '161_1b1_Al_sc_Meditron', '161_1b1_Pl_sc_Meditron', '162_1b2_Al_mc_AKGC417L', '162_1b2_Ar_mc_AKGC417L', '162_1b2_Ll_mc_AKGC417L', '162_1b2_Lr_mc_AKGC417L', '162_1b2_Pl_mc_AKGC417L', '162_1b2_Pr_mc_AKGC417L', '162_1b2_Tc_mc_AKGC417L', '162_2b2_Al_mc_AKGC417L', '162_2b2_Ar_mc_AKGC417L', '162_2b2_Pl_mc_AKGC417L', '162_2b2_Pr_mc_AKGC417L', '162_2b2_Tc_mc_AKGC417L', '162_2b3_Al_mc_AKGC417L', '162_2b3_Ar_mc_AKGC417L', '162_2b3_Lr_mc_AKGC417L', '162_2b3_Pl_mc_AKGC417L', '162_2b3_Pr_mc_AKGC417L', '162_2b3_Tc_mc_AKGC417L', '162_2b4_Al_mc_AKGC417L', '162_2b4_Ar_mc_AKGC417L', '162_2b4_Lr_mc_AKGC417L', '162_2b4_Pl_mc_AKGC417L', '162_2b4_Pr_mc_AKGC417L', '162_2b4_Tc_mc_AKGC417L', '163_2b2_Al_mc_AKGC417L', '163_2b2_Ar_mc_AKGC417L', '163_2b2_Ll_mc_AKGC417L', '163_2b2_Lr_mc_AKGC417L', '163_2b2_Pl_mc_AKGC417L', '163_2b2_Pr_mc_AKGC417L', '163_2b2_Tc_mc_AKGC417L', '163_8b3_Al_mc_AKGC417L', '163_8b3_Ar_mc_AKGC417L', '163_8b3_Ll_mc_AKGC417L', '163_8b3_Lr_mc_AKGC417L', '163_8b3_Pl_mc_AKGC417L', '163_8b3_Pr_mc_AKGC417L', '164_1b1_Ll_sc_Meditron', '165_1b1_Ar_sc_Meditron', '165_1b1_Pl_sc_Meditron', '165_1b1_Pr_sc_Meditron', '166_1p1_Al_sc_Meditron', '166_1p1_Ar_sc_Meditron', '166_1p1_Ll_sc_Meditron', '166_1p1_Pl_sc_Meditron', '166_1p1_Pr_sc_Meditron', '167_1b1_Al_sc_Meditron', '167_1b1_Pr_sc_Meditron', '168_1b1_Al_sc_Meditron', '169_1b1_Lr_sc_Meditron', '169_1b2_Ll_sc_Meditron', '170_1b2_Al_mc_AKGC417L', '170_1b2_Ar_mc_AKGC417L', '170_1b2_Lr_mc_AKGC417L', '170_1b2_Pl_mc_AKGC417L', '170_1b2_Pr_mc_AKGC417L', '170_1b2_Tc_mc_AKGC417L', '170_1b3_Al_mc_AKGC417L', '170_1b3_Ar_mc_AKGC417L', '170_1b3_Ll_mc_AKGC417L', '170_1b3_Lr_mc_AKGC417L', '170_1b3_Pl_mc_AKGC417L', '170_1b3_Pr_mc_AKGC417L', '170_1b3_Tc_mc_AKGC417L', '170_1b4_Al_mc_AKGC417L', '170_1b4_Ar_mc_AKGC417L', '170_1b4_Lr_mc_AKGC417L', '170_1b4_Pl_mc_AKGC417L', '170_1b4_Pr_mc_AKGC417L', '170_1b4_Tc_mc_AKGC417L', '170_2b2_Al_mc_AKGC417L', '170_2b2_Ar_mc_AKGC417L', '170_2b2_Lr_mc_AKGC417L', '170_2b2_Pl_mc_AKGC417L', '170_2b2_Pr_mc_AKGC417L', '170_2b2_Tc_mc_AKGC417L', '171_1b1_Al_sc_Meditron', '172_1b3_Al_mc_AKGC417L', '172_1b3_Ar_mc_AKGC417L', '172_1b3_Ll_mc_AKGC417L', '172_1b3_Lr_mc_AKGC417L', '172_1b3_Pl_mc_AKGC417L', '172_1b3_Pr_mc_AKGC417L', '172_1b3_Tc_mc_AKGC417L', '172_1b4_Al_mc_AKGC417L', '172_1b4_Ar_mc_AKGC417L', '172_1b4_Ll_mc_AKGC417L', '172_1b4_Lr_mc_AKGC417L', '172_1b4_Pl_mc_AKGC417L', '172_1b4_Pr_mc_AKGC417L', '172_1b4_Tc_mc_AKGC417L', '172_1b5_Al_mc_AKGC417L', '172_1b5_Ar_mc_AKGC417L', '172_1b5_Ll_mc_AKGC417L', '172_1b5_Lr_mc_AKGC417L', '172_1b5_Pl_mc_AKGC417L', '172_1b5_Pr_mc_AKGC417L', '172_1b5_Tc_mc_AKGC417L', '172_2b5_Al_mc_AKGC417L', '172_2b5_Ar_mc_AKGC417L', '172_2b5_Lr_mc_AKGC417L', '172_2b5_Pl_mc_AKGC417L', '172_2b5_Pr_mc_AKGC417L', '172_2b5_Tc_mc_AKGC417L', '173_1b1_Al_sc_Meditron', '174_1p2_Ar_mc_AKGC417L', '174_1p2_Ll_mc_AKGC417L', '174_1p2_Lr_mc_AKGC417L', '174_1p2_Pl_mc_AKGC417L', '174_1p2_Pr_mc_AKGC417L', '174_1p2_Tc_mc_AKGC417L', '174_1p3_Ar_mc_AKGC417L', '174_1p3_Ll_mc_AKGC417L', '174_1p3_Lr_mc_AKGC417L', '174_1p3_Pl_mc_AKGC417L', '174_1p3_Pr_mc_AKGC417L', '174_1p3_Tc_mc_AKGC417L', '174_1p4_Ar_mc_AKGC417L', '174_1p4_Ll_mc_AKGC417L', '174_1p4_Lr_mc_AKGC417L', '174_1p4_Pl_mc_AKGC417L', '174_1p4_Pr_mc_AKGC417L', '174_1p4_Tc_mc_AKGC417L', '174_2p3_Al_mc_AKGC417L', '174_2p3_Ar_mc_AKGC417L', '174_2p3_Pl_mc_AKGC417L', '174_2p3_Pr_mc_AKGC417L', '174_2p3_Tc_mc_AKGC417L', '175_1b1_Al_sc_Litt3200', '175_1b1_Ar_sc_Litt3200', '175_1b1_Ll_sc_Litt3200', '175_1b1_Lr_sc_Litt3200', '175_1b1_Pl_sc_Litt3200', '175_1b1_Pr_sc_Litt3200', '176_1b3_Al_mc_AKGC417L', '176_1b3_Ar_mc_AKGC417L', '176_1b3_Ll_mc_AKGC417L', '176_1b3_Lr_mc_AKGC417L', '176_1b3_Pl_mc_AKGC417L', '176_1b3_Pr_mc_AKGC417L', '176_1b3_Tc_mc_AKGC417L', '176_1b4_Al_mc_AKGC417L', '176_1b4_Ar_mc_AKGC417L', '176_1b4_Ll_mc_AKGC417L', '176_1b4_Lr_mc_AKGC417L', '176_1b4_Pl_mc_AKGC417L', '176_1b4_Pr_mc_AKGC417L', '176_1b4_Tc_mc_AKGC417L', '176_2b3_Al_mc_AKGC417L', '176_2b3_Ar_mc_AKGC417L', '176_2b3_Ll_mc_AKGC417L', '176_2b3_Lr_mc_AKGC417L', '176_2b3_Pl_mc_AKGC417L', '176_2b3_Pr_mc_AKGC417L', '176_2b3_Tc_mc_AKGC417L', '177_1b2_Al_mc_AKGC417L', '177_1b2_Ar_mc_AKGC417L', '177_1b2_Lr_mc_AKGC417L', '177_1b2_Pl_mc_AKGC417L', '177_1b2_Pr_mc_AKGC417L', '177_1b2_Tc_mc_AKGC417L', '177_1b4_Al_mc_AKGC417L', '177_1b4_Ar_mc_AKGC417L', '177_1b4_Lr_mc_AKGC417L', '177_1b4_Pl_mc_AKGC417L', '177_1b4_Pr_mc_AKGC417L', '177_1b4_Tc_mc_AKGC417L', '177_2b4_Al_mc_AKGC417L', '177_2b4_Lr_mc_AKGC417L', '177_2b4_Pl_mc_AKGC417L', '177_2b4_Pr_mc_AKGC417L', '177_2b4_Tc_mc_AKGC417L', '178_1b2_Al_mc_AKGC417L', '178_1b2_Ar_mc_AKGC417L', '178_1b2_Lr_mc_AKGC417L', '178_1b2_Pl_mc_AKGC417L', '178_1b2_Pr_mc_AKGC417L', '178_1b2_Tc_mc_AKGC417L', '178_1b3_Al_mc_AKGC417L', '178_1b3_Ar_mc_AKGC417L', '178_1b3_Lr_mc_AKGC417L', '178_1b3_Pl_mc_AKGC417L', '178_1b3_Pr_mc_AKGC417L', '178_1b3_Tc_mc_AKGC417L', '178_1b6_Al_mc_AKGC417L', '178_1b6_Ar_mc_AKGC417L', '178_1b6_Ll_mc_AKGC417L', '178_1b6_Lr_mc_AKGC417L', '178_1b6_Pl_mc_AKGC417L', '178_1b6_Pr_mc_AKGC417L', '178_1b6_Tc_mc_AKGC417L', '178_2b2_Al_mc_AKGC417L', '178_2b2_Ar_mc_AKGC417L', '178_2b2_Lr_mc_AKGC417L', '178_2b2_Pr_mc_AKGC417L', '178_2b2_Tc_mc_AKGC417L', '179_1b1_Al_sc_Meditron', '179_1b1_Tc_sc_Meditron', '180_1b4_Al_mc_AKGC417L', '180_1b4_Ar_mc_AKGC417L', '180_1b4_Lr_mc_AKGC417L', '180_1b4_Pl_mc_AKGC417L', '180_1b4_Pr_mc_AKGC417L', '181_1b1_Ar_mc_LittC2SE', '181_1b1_Tc_mc_LittC2SE', '181_1b2_Ar_mc_LittC2SE', '181_1b3_Tc_mc_LittC2SE', '182_1b1_Tc_sc_Meditron', '183_1b1_Pl_sc_Meditron', '183_1b1_Tc_sc_Meditron', '184_1b1_Ar_sc_Meditron', '185_1b1_Al_sc_Litt3200', '185_1b1_Ar_sc_Litt3200', '185_1b1_Ll_sc_Litt3200', '185_1b1_Lr_sc_Litt3200', '185_1b1_Pl_sc_Litt3200', '185_1b1_Pr_sc_Litt3200', '186_2b2_Al_mc_AKGC417L', '186_2b2_Ar_mc_AKGC417L', '186_2b2_Lr_mc_AKGC417L', '186_2b2_Pl_mc_AKGC417L', '186_2b2_Pr_mc_AKGC417L', '186_2b2_Tc_mc_AKGC417L', '186_2b3_Al_mc_AKGC417L', '186_2b3_Ar_mc_AKGC417L', '186_2b3_Lr_mc_AKGC417L', '186_2b3_Pl_mc_AKGC417L', '186_2b3_Pr_mc_AKGC417L', '186_2b3_Tc_mc_AKGC417L', '186_2b4_Al_mc_AKGC417L', '186_2b4_Ar_mc_AKGC417L', '186_2b4_Lr_mc_AKGC417L', '186_2b4_Pl_mc_AKGC417L', '186_2b4_Pr_mc_AKGC417L', '186_2b4_Tc_mc_AKGC417L', '186_3b3_Al_mc_AKGC417L', '186_3b3_Ar_mc_AKGC417L', '186_3b3_Lr_mc_AKGC417L', '186_3b3_Pl_mc_AKGC417L', '186_3b3_Pr_mc_AKGC417L', '186_3b3_Tc_mc_AKGC417L', '187_1b1_Ll_sc_Meditron', '188_1b1_Al_sc_Meditron', '188_1b1_Ar_sc_Meditron', '188_1b1_Pl_sc_Meditron', '188_1b1_Tc_sc_Meditron', '189_1b2_Lr_mc_LittC2SE', '190_1b1_Tc_sc_Meditron', '191_2b1_Pl_mc_LittC2SE', '191_2b1_Pr_mc_LittC2SE', '191_2b2_Tc_mc_LittC2SE', '192_2b1_Al_mc_LittC2SE', '192_2b1_Ar_mc_LittC2SE', '192_2b2_Al_mc_LittC2SE', '192_2b2_Ar_mc_LittC2SE', '192_2b3_Al_mc_LittC2SE', '192_2b3_Ar_mc_LittC2SE', '193_1b2_Al_mc_AKGC417L', '193_1b2_Ar_mc_AKGC417L', '193_1b2_Ll_mc_AKGC417L', '193_1b2_Pl_mc_AKGC417L', '193_1b2_Pr_mc_AKGC417L', '193_1b2_Tc_mc_AKGC417L', '193_1b4_Lr_mc_AKGC417L', '193_7b3_Al_mc_AKGC417L', '193_7b3_Ar_mc_AKGC417L', '193_7b3_Ll_mc_AKGC417L', '193_7b3_Lr_mc_AKGC417L', '193_7b3_Pl_mc_AKGC417L', '193_7b3_Pr_mc_AKGC417L', '193_7b3_Tc_mc_AKGC417L', '194_1b1_Lr_sc_Meditron', '194_1b1_Pr_sc_Meditron', '195_1b1_Al_sc_Litt3200', '195_1b1_Ar_sc_Litt3200', '195_1b1_Ll_sc_Litt3200', '195_1b1_Lr_sc_Litt3200', '195_1b1_Pl_sc_Litt3200', '195_1b1_Pr_sc_Litt3200', '196_1b1_Pr_sc_Meditron', '197_1b1_Al_sc_Meditron', '197_1b1_Tc_sc_Meditron', '198_1b5_Al_mc_AKGC417L', '198_1b5_Ar_mc_AKGC417L', '198_1b5_Ll_mc_AKGC417L', '198_1b5_Lr_mc_AKGC417L', '198_1b5_Pl_mc_AKGC417L', '198_1b5_Pr_mc_AKGC417L', '198_1b5_Tc_mc_AKGC417L', '198_6p1_Al_mc_AKGC417L', '198_6p1_Ar_mc_AKGC417L', '198_6p1_Ll_mc_AKGC417L', '198_6p1_Lr_mc_AKGC417L', '198_6p1_Pl_mc_AKGC417L', '198_6p1_Pr_mc_AKGC417L', '198_6p1_Tc_mc_AKGC417L', '199_2b1_Ll_mc_LittC2SE', '199_2b3_Ll_mc_LittC2SE', '200_2p2_Al_mc_AKGC417L', '200_2p2_Ar_mc_AKGC417L', '200_2p2_Lr_mc_AKGC417L', '200_2p2_Pl_mc_AKGC417L', '200_2p2_Pr_mc_AKGC417L', '200_2p2_Tc_mc_AKGC417L', '200_2p3_Al_mc_AKGC417L', '200_2p3_Ar_mc_AKGC417L', '200_2p3_Lr_mc_AKGC417L', '200_2p3_Pl_mc_AKGC417L', '200_2p3_Pr_mc_AKGC417L', '200_2p3_Tc_mc_AKGC417L', '200_2p4_Al_mc_AKGC417L', '200_2p4_Ar_mc_AKGC417L', '200_2p4_Lr_mc_AKGC417L', '200_2p4_Pl_mc_AKGC417L', '200_2p4_Pr_mc_AKGC417L', '200_2p4_Tc_mc_AKGC417L', '200_3p4_Al_mc_AKGC417L', '200_3p4_Ar_mc_AKGC417L', '200_3p4_Pl_mc_AKGC417L', '200_3p4_Pr_mc_AKGC417L', '200_3p4_Tc_mc_AKGC417L', '201_1b1_Al_sc_Meditron', '201_1b1_Ar_sc_Meditron', '201_1b2_Al_sc_Meditron', '201_1b2_Ar_sc_Meditron', '201_1b3_Al_sc_Meditron', '201_1b3_Ar_sc_Meditron', '202_1b1_Ar_sc_Meditron', '203_1p2_Al_mc_AKGC417L', '203_1p2_Ar_mc_AKGC417L', '203_1p2_Lr_mc_AKGC417L', '203_1p2_Pl_mc_AKGC417L', '203_1p2_Pr_mc_AKGC417L', '203_1p2_Tc_mc_AKGC417L', '203_1p3_Al_mc_AKGC417L', '203_1p3_Ar_mc_AKGC417L', '203_1p3_Pl_mc_AKGC417L', '203_1p3_Pr_mc_AKGC417L', '203_1p3_Tc_mc_AKGC417L', '203_1p4_Al_mc_AKGC417L', '203_1p4_Ar_mc_AKGC417L', '203_1p4_Pl_mc_AKGC417L', '203_1p4_Pr_mc_AKGC417L', '203_1p4_Tc_mc_AKGC417L', '203_2p3_Al_mc_AKGC417L', '203_2p3_Ar_mc_AKGC417L', '203_2p3_Pl_mc_AKGC417L', '203_2p3_Pr_mc_AKGC417L', '203_2p3_Tc_mc_AKGC417L', '204_2b5_Al_mc_AKGC417L', '204_2b5_Ar_mc_AKGC417L', '204_2b5_Ll_mc_AKGC417L', '204_7p5_Al_mc_AKGC417L', '204_7p5_Ar_mc_AKGC417L', '204_7p5_Ll_mc_AKGC417L', '204_7p5_Lr_mc_AKGC417L', '204_7p5_Pr_mc_AKGC417L', '204_7p5_Tc_mc_AKGC417L', '205_1b3_Al_mc_AKGC417L', '205_1b3_Ar_mc_AKGC417L', '205_1b3_Ll_mc_AKGC417L', '205_1b3_Lr_mc_AKGC417L', '205_1b3_Pl_mc_AKGC417L', '205_1b3_Pr_mc_AKGC417L', '205_2b2_Pr_mc_AKGC417L', '205_2b3_Al_mc_AKGC417L', '205_2b3_Ar_mc_AKGC417L', '205_2b3_Ll_mc_AKGC417L', '205_2b4_Pl_mc_AKGC417L', '205_3b4_Al_mc_AKGC417L', '205_3b4_Ar_mc_AKGC417L', '205_3b4_Pl_mc_AKGC417L', '205_3b4_Pr_mc_AKGC417L', '205_4b2_Al_mc_AKGC417L', '205_4b2_Ar_mc_AKGC417L', '205_4b2_Lr_mc_AKGC417L', '205_4b2_Pl_mc_AKGC417L', '205_4b2_Pr_mc_AKGC417L', '206_1b1_Ar_sc_Meditron', '206_1b1_Lr_sc_Meditron', '206_1b1_Pl_sc_Meditron', '207_2b2_Al_mc_AKGC417L', '207_2b2_Ar_mc_AKGC417L', '207_2b2_Pl_mc_AKGC417L', '207_2b2_Pr_mc_AKGC417L', '207_2b2_Tc_mc_AKGC417L', '207_2b3_Al_mc_AKGC417L', '207_2b3_Ar_mc_AKGC417L', '207_2b3_Pl_mc_AKGC417L', '207_2b3_Pr_mc_AKGC417L', '207_2b3_Tc_mc_AKGC417L', '207_2b4_Al_mc_AKGC417L', '207_2b4_Ar_mc_AKGC417L', '207_2b4_Pl_mc_AKGC417L', '207_2b4_Pr_mc_AKGC417L', '207_2b4_Tc_mc_AKGC417L', '207_3b2_Al_mc_AKGC417L', '207_3b2_Ar_mc_AKGC417L', '207_3b2_Lr_mc_AKGC417L', '207_3b2_Pl_mc_AKGC417L', '207_3b2_Pr_mc_AKGC417L', '207_3b2_Tc_mc_AKGC417L', '208_1b1_Ll_sc_Meditron', '209_1b1_Tc_sc_Meditron', '210_1b1_Al_sc_Meditron', '210_1b1_Ar_sc_Meditron', '211_1p2_Ar_mc_AKGC417L', '211_1p2_Pl_mc_AKGC417L', '211_1p2_Pr_mc_AKGC417L', '211_1p3_Ar_mc_AKGC417L', '211_1p5_Ar_mc_AKGC417L', '211_2p2_Tc_mc_AKGC417L', '211_2p3_Tc_mc_AKGC417L', '211_2p4_Tc_mc_AKGC417L', '212_2b2_Tc_mc_LittC2SE', '213_1p2_Al_mc_AKGC417L', '213_1p2_Ar_mc_AKGC417L', '213_1p2_Lr_mc_AKGC417L', '213_1p2_Pl_mc_AKGC417L', '213_1p2_Pr_mc_AKGC417L', '213_1p2_Tc_mc_AKGC417L', '213_1p3_Al_mc_AKGC417L', '213_1p3_Ar_mc_AKGC417L', '213_1p3_Pl_mc_AKGC417L', '213_1p3_Pr_mc_AKGC417L', '213_1p5_Al_mc_AKGC417L', '213_1p5_Ar_mc_AKGC417L', '213_1p5_Pl_mc_AKGC417L', '213_1p5_Pr_mc_AKGC417L', '213_1p5_Tc_mc_AKGC417L', '213_2p2_Al_mc_AKGC417L', '213_2p2_Ar_mc_AKGC417L', '213_2p2_Pl_mc_AKGC417L', '213_2p2_Pr_mc_AKGC417L', '213_2p2_Tc_mc_AKGC417L', '214_1b1_Ar_sc_Meditron', '215_1b2_Ar_sc_Meditron', '215_1b3_Tc_sc_Meditron', '216_1b1_Al_sc_Meditron', '216_1b1_Pl_sc_Meditron', '217_1b1_Tc_sc_Meditron', '218_1b1_Al_sc_Meditron', '218_1b1_Ar_sc_Meditron', '218_1b1_Lr_sc_Meditron', '218_1b1_Pl_sc_Meditron', '218_1b1_Pr_sc_Meditron', '218_1p1_Ar_sc_Litt3200', '218_1p1_Pl_sc_Litt3200', '218_1p1_Pr_sc_Litt3200', '219_2b1_Ar_mc_LittC2SE', '219_2b1_Tc_mc_LittC2SE', '219_2b2_Ar_mc_LittC2SE', '219_2b2_Tc_mc_LittC2SE', '219_2b3_Tc_mc_LittC2SE', '220_1b1_Tc_mc_LittC2SE', '220_1b2_Al_mc_LittC2SE', '221_2b1_Al_mc_LittC2SE', '221_2b1_Ar_mc_LittC2SE', '221_2b1_Lr_mc_LittC2SE', '221_2b1_Pl_mc_LittC2SE', '221_2b2_Al_mc_LittC2SE', '221_2b2_Ar_mc_LittC2SE', '221_2b2_Lr_mc_LittC2SE', '221_2b2_Pl_mc_LittC2SE', '221_2b3_Al_mc_LittC2SE', '221_2b3_Ar_mc_LittC2SE', '221_2b3_Lr_mc_LittC2SE', '221_2b3_Pr_mc_LittC2SE', '222_1b1_Ar_sc_Meditron', '222_1b1_Lr_sc_Meditron', '222_1b1_Pr_sc_Meditron', '223_1b1_Al_sc_Meditron', '223_1b1_Ar_sc_Meditron', '223_1b1_Ll_sc_Meditron', '223_1b1_Lr_sc_Meditron', '223_1b1_Pl_sc_Meditron', '223_1b1_Pr_sc_Meditron', '224_1b1_Tc_sc_Meditron', '224_1b2_Al_sc_Meditron', '225_1b1_Pl_sc_Meditron', '226_1b1_Al_sc_Meditron', '226_1b1_Ll_sc_Meditron', '226_1b1_Pl_sc_LittC2SE']\n"
     ]
    }
   ],
   "source": [
    "directory = 'archive/Respiratory_Sound_Database/Respiratory_Sound_Database/audio_and_txt_files'\n",
    "audio_file_names = [file[:-4] for file in os.listdir(directory) if file.endswith('.wav')]\n",
    "print(audio_file_names)"
   ]
  },
  {
   "cell_type": "code",
   "execution_count": 15,
   "metadata": {},
   "outputs": [
    {
     "data": {
      "text/html": [
       "<div>\n",
       "<style scoped>\n",
       "    .dataframe tbody tr th:only-of-type {\n",
       "        vertical-align: middle;\n",
       "    }\n",
       "\n",
       "    .dataframe tbody tr th {\n",
       "        vertical-align: top;\n",
       "    }\n",
       "\n",
       "    .dataframe thead th {\n",
       "        text-align: right;\n",
       "    }\n",
       "</style>\n",
       "<table border=\"1\" class=\"dataframe\">\n",
       "  <thead>\n",
       "    <tr style=\"text-align: right;\">\n",
       "      <th></th>\n",
       "      <th>pno</th>\n",
       "      <th>diagnosis</th>\n",
       "    </tr>\n",
       "  </thead>\n",
       "  <tbody>\n",
       "    <tr>\n",
       "      <th>0</th>\n",
       "      <td>101</td>\n",
       "      <td>URTI</td>\n",
       "    </tr>\n",
       "    <tr>\n",
       "      <th>1</th>\n",
       "      <td>102</td>\n",
       "      <td>Healthy</td>\n",
       "    </tr>\n",
       "    <tr>\n",
       "      <th>2</th>\n",
       "      <td>103</td>\n",
       "      <td>Asthma</td>\n",
       "    </tr>\n",
       "    <tr>\n",
       "      <th>3</th>\n",
       "      <td>104</td>\n",
       "      <td>COPD</td>\n",
       "    </tr>\n",
       "    <tr>\n",
       "      <th>4</th>\n",
       "      <td>105</td>\n",
       "      <td>URTI</td>\n",
       "    </tr>\n",
       "    <tr>\n",
       "      <th>...</th>\n",
       "      <td>...</td>\n",
       "      <td>...</td>\n",
       "    </tr>\n",
       "    <tr>\n",
       "      <th>121</th>\n",
       "      <td>222</td>\n",
       "      <td>COPD</td>\n",
       "    </tr>\n",
       "    <tr>\n",
       "      <th>122</th>\n",
       "      <td>223</td>\n",
       "      <td>COPD</td>\n",
       "    </tr>\n",
       "    <tr>\n",
       "      <th>123</th>\n",
       "      <td>224</td>\n",
       "      <td>Healthy</td>\n",
       "    </tr>\n",
       "    <tr>\n",
       "      <th>124</th>\n",
       "      <td>225</td>\n",
       "      <td>Healthy</td>\n",
       "    </tr>\n",
       "    <tr>\n",
       "      <th>125</th>\n",
       "      <td>226</td>\n",
       "      <td>Pneumonia</td>\n",
       "    </tr>\n",
       "  </tbody>\n",
       "</table>\n",
       "<p>126 rows × 2 columns</p>\n",
       "</div>"
      ],
      "text/plain": [
       "     pno  diagnosis\n",
       "0    101       URTI\n",
       "1    102    Healthy\n",
       "2    103     Asthma\n",
       "3    104       COPD\n",
       "4    105       URTI\n",
       "..   ...        ...\n",
       "121  222       COPD\n",
       "122  223       COPD\n",
       "123  224    Healthy\n",
       "124  225    Healthy\n",
       "125  226  Pneumonia\n",
       "\n",
       "[126 rows x 2 columns]"
      ]
     },
     "execution_count": 15,
     "metadata": {},
     "output_type": "execute_result"
    }
   ],
   "source": [
    "pno_diagnoses = pd.read_csv('archive/Respiratory_Sound_Database/Respiratory_Sound_Database/patient_diagnosis.csv', header=None, names=['pno', 'diagnosis'])\n",
    "pno_diagnoses['pno'] = pno_diagnoses['pno'].astype(str)\n",
    "pno_diagnoses"
   ]
  },
  {
   "cell_type": "code",
   "execution_count": 28,
   "metadata": {},
   "outputs": [],
   "source": [
    "diagnoses = {'pno_string':[] , 'filename':[], 'diagnosis':[]}\n",
    "for cur_file in audio_file_names:\n",
    "    pno_string = cur_file[:3]\n",
    "    diagnoses['pno_string'].append(pno_string)\n",
    "    diagnoses['filename'].append(cur_file)\n",
    "    diagnoses['diagnosis'].append(pno_diagnoses[pno_diagnoses['pno'] == pno_string]['diagnosis'].values[0])"
   ]
  },
  {
   "cell_type": "code",
   "execution_count": 31,
   "metadata": {},
   "outputs": [
    {
     "data": {
      "text/html": [
       "<div>\n",
       "<style scoped>\n",
       "    .dataframe tbody tr th:only-of-type {\n",
       "        vertical-align: middle;\n",
       "    }\n",
       "\n",
       "    .dataframe tbody tr th {\n",
       "        vertical-align: top;\n",
       "    }\n",
       "\n",
       "    .dataframe thead th {\n",
       "        text-align: right;\n",
       "    }\n",
       "</style>\n",
       "<table border=\"1\" class=\"dataframe\">\n",
       "  <thead>\n",
       "    <tr style=\"text-align: right;\">\n",
       "      <th></th>\n",
       "      <th>pno_string</th>\n",
       "      <th>filename</th>\n",
       "      <th>diagnosis</th>\n",
       "    </tr>\n",
       "  </thead>\n",
       "  <tbody>\n",
       "    <tr>\n",
       "      <th>0</th>\n",
       "      <td>101</td>\n",
       "      <td>101_1b1_Al_sc_Meditron</td>\n",
       "      <td>URTI</td>\n",
       "    </tr>\n",
       "    <tr>\n",
       "      <th>1</th>\n",
       "      <td>101</td>\n",
       "      <td>101_1b1_Pr_sc_Meditron</td>\n",
       "      <td>URTI</td>\n",
       "    </tr>\n",
       "    <tr>\n",
       "      <th>2</th>\n",
       "      <td>102</td>\n",
       "      <td>102_1b1_Ar_sc_Meditron</td>\n",
       "      <td>Healthy</td>\n",
       "    </tr>\n",
       "    <tr>\n",
       "      <th>3</th>\n",
       "      <td>103</td>\n",
       "      <td>103_2b2_Ar_mc_LittC2SE</td>\n",
       "      <td>Asthma</td>\n",
       "    </tr>\n",
       "    <tr>\n",
       "      <th>4</th>\n",
       "      <td>104</td>\n",
       "      <td>104_1b1_Al_sc_Litt3200</td>\n",
       "      <td>COPD</td>\n",
       "    </tr>\n",
       "  </tbody>\n",
       "</table>\n",
       "</div>"
      ],
      "text/plain": [
       "  pno_string                filename diagnosis\n",
       "0        101  101_1b1_Al_sc_Meditron      URTI\n",
       "1        101  101_1b1_Pr_sc_Meditron      URTI\n",
       "2        102  102_1b1_Ar_sc_Meditron   Healthy\n",
       "3        103  103_2b2_Ar_mc_LittC2SE    Asthma\n",
       "4        104  104_1b1_Al_sc_Litt3200      COPD"
      ]
     },
     "execution_count": 31,
     "metadata": {},
     "output_type": "execute_result"
    }
   ],
   "source": [
    "diagnoses_df = pd.DataFrame(diagnoses)\n",
    "diagnoses_df.head()"
   ]
  },
  {
   "cell_type": "code",
   "execution_count": null,
   "metadata": {},
   "outputs": [],
   "source": [
    "diagnoses_df.to_csv('pno_filename_to_diagnoses.csv', index=False)"
   ]
  }
 ],
 "metadata": {
  "kernelspec": {
   "display_name": "Python 3",
   "language": "python",
   "name": "python3"
  },
  "language_info": {
   "codemirror_mode": {
    "name": "ipython",
    "version": 3
   },
   "file_extension": ".py",
   "mimetype": "text/x-python",
   "name": "python",
   "nbconvert_exporter": "python",
   "pygments_lexer": "ipython3",
   "version": "3.10.1"
  }
 },
 "nbformat": 4,
 "nbformat_minor": 2
}
