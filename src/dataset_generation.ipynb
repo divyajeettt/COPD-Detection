{
 "cells": [
  {
   "cell_type": "code",
   "execution_count": 28,
   "metadata": {},
   "outputs": [],
   "source": [
    "import librosa\n",
    "import matplotlib.pyplot as plt\n",
    "import numpy as np\n",
    "import os\n",
    "import pandas as pd\n",
    "from tqdm import tqdm\n",
    "from PIL import Image"
   ]
  },
  {
   "cell_type": "code",
   "execution_count": 29,
   "metadata": {},
   "outputs": [
    {
     "name": "stdout",
     "output_type": "stream",
     "text": [
      "['101_1b1_Al_sc_Meditron.wav', '101_1b1_Pr_sc_Meditron.wav', '102_1b1_Ar_sc_Meditron.wav', '103_2b2_Ar_mc_LittC2SE.wav', '104_1b1_Al_sc_Litt3200.wav', '104_1b1_Ar_sc_Litt3200.wav', '104_1b1_Ll_sc_Litt3200.wav', '104_1b1_Lr_sc_Litt3200.wav', '104_1b1_Pl_sc_Litt3200.wav', '104_1b1_Pr_sc_Litt3200.wav', '105_1b1_Tc_sc_Meditron.wav', '106_2b1_Pl_mc_LittC2SE.wav', '106_2b1_Pr_mc_LittC2SE.wav', '107_2b3_Al_mc_AKGC417L.wav', '107_2b3_Ar_mc_AKGC417L.wav', '107_2b3_Ll_mc_AKGC417L.wav', '107_2b3_Lr_mc_AKGC417L.wav', '107_2b3_Pl_mc_AKGC417L.wav', '107_2b3_Pr_mc_AKGC417L.wav', '107_2b3_Tc_mc_AKGC417L.wav', '107_2b4_Al_mc_AKGC417L.wav', '107_2b4_Ar_mc_AKGC417L.wav', '107_2b4_Ll_mc_AKGC417L.wav', '107_2b4_Lr_mc_AKGC417L.wav', '107_2b4_Pl_mc_AKGC417L.wav', '107_2b4_Pr_mc_AKGC417L.wav', '107_2b4_Tc_mc_AKGC417L.wav', '107_2b5_Al_mc_AKGC417L.wav', '107_2b5_Ar_mc_AKGC417L.wav', '107_2b5_Ll_mc_AKGC417L.wav', '107_2b5_Lr_mc_AKGC417L.wav', '107_2b5_Pl_mc_AKGC417L.wav', '107_2b5_Pr_mc_AKGC417L.wav', '107_2b5_Tc_mc_AKGC417L.wav', '107_3p2_Al_mc_AKGC417L.wav', '107_3p2_Ar_mc_AKGC417L.wav', '107_3p2_Ll_mc_AKGC417L.wav', '107_3p2_Lr_mc_AKGC417L.wav', '107_3p2_Pl_mc_AKGC417L.wav', '107_3p2_Pr_mc_AKGC417L.wav', '107_3p2_Tc_mc_AKGC417L.wav', '108_1b1_Al_sc_Meditron.wav', '109_1b1_Al_sc_Litt3200.wav', '109_1b1_Ar_sc_Litt3200.wav', '109_1b1_Ll_sc_Litt3200.wav', '109_1b1_Lr_sc_Litt3200.wav', '109_1b1_Pl_sc_Litt3200.wav', '109_1b1_Pr_sc_Litt3200.wav', '110_1b1_Pr_sc_Meditron.wav', '110_1p1_Al_sc_Meditron.wav', '110_1p1_Ll_sc_Meditron.wav', '110_1p1_Lr_sc_Meditron.wav', '110_1p1_Pr_sc_Meditron.wav', '111_1b2_Tc_sc_Meditron.wav', '111_1b3_Tc_sc_Meditron.wav', '112_1b1_Ar_sc_Meditron.wav', '112_1b1_Lr_sc_Meditron.wav', '112_1p1_Ll_sc_Litt3200.wav', '112_1p1_Pl_sc_Litt3200.wav', '112_1p1_Pr_sc_Litt3200.wav', '113_1b1_Al_sc_Litt3200.wav', '113_1b1_Ar_sc_Litt3200.wav', '113_1b1_Ll_sc_Litt3200.wav', '113_1b1_Lr_sc_Litt3200.wav', '113_1b1_Pl_sc_Litt3200.wav', '113_1b1_Pr_sc_Litt3200.wav', '114_1b4_Al_mc_AKGC417L.wav', '114_1b4_Ar_mc_AKGC417L.wav', '114_1b4_Lr_mc_AKGC417L.wav', '114_1b4_Pl_mc_AKGC417L.wav', '114_1b4_Pr_mc_AKGC417L.wav', '115_1b1_Ar_sc_Meditron.wav', '116_1b2_Pl_sc_Meditron.wav', '116_1b2_Tc_sc_Meditron.wav', '117_1b2_Tc_mc_LittC2SE.wav', '117_1b3_Tc_mc_LittC2SE.wav', '118_1b1_Al_sc_Litt3200.wav', '118_1b1_Ar_sc_Litt3200.wav', '118_1b1_Ll_sc_Litt3200.wav', '118_1b1_Lr_sc_Litt3200.wav', '118_1b1_Pl_sc_Litt3200.wav', '118_1b1_Pr_sc_Litt3200.wav', '119_1b1_Ar_sc_Meditron.wav', '120_1b1_Al_sc_Meditron.wav', '120_1b1_Ar_sc_Meditron.wav', '120_1b1_Lr_sc_Meditron.wav', '120_1b1_Pl_sc_Meditron.wav', '120_1b1_Pr_sc_Meditron.wav', '121_1b1_Tc_sc_Meditron.wav', '121_1p1_Tc_sc_Meditron.wav', '122_2b1_Al_mc_LittC2SE.wav', '122_2b1_Ar_mc_LittC2SE.wav', '122_2b1_Tc_mc_LittC2SE.wav', '122_2b2_Al_mc_LittC2SE.wav', '122_2b2_Ar_mc_LittC2SE.wav', '122_2b2_Tc_mc_LittC2SE.wav', '122_2b3_Al_mc_LittC2SE.wav', '122_2b3_Ar_mc_LittC2SE.wav', '122_2b3_Tc_mc_LittC2SE.wav', '123_1b1_Al_sc_Meditron.wav', '124_1b1_Al_sc_Litt3200.wav', '124_1b1_Ar_sc_Litt3200.wav', '124_1b1_Ll_sc_Litt3200.wav', '124_1b1_Lr_sc_Litt3200.wav', '124_1b1_Pl_sc_Litt3200.wav', '124_1b1_Pr_sc_Litt3200.wav', '125_1b1_Tc_sc_Meditron.wav', '126_1b1_Al_sc_Meditron.wav', '127_1b1_Ar_sc_Meditron.wav', '128_1b3_Tc_mc_LittC2SE.wav', '129_1b1_Ar_sc_Meditron.wav', '130_1p2_Al_mc_AKGC417L.wav', '130_1p2_Ar_mc_AKGC417L.wav', '130_1p2_Ll_mc_AKGC417L.wav', '130_1p2_Lr_mc_AKGC417L.wav', '130_1p2_Pl_mc_AKGC417L.wav', '130_1p2_Pr_mc_AKGC417L.wav', '130_1p2_Tc_mc_AKGC417L.wav', '130_1p3_Al_mc_AKGC417L.wav', '130_1p3_Ar_mc_AKGC417L.wav', '130_1p3_Ll_mc_AKGC417L.wav', '130_1p3_Lr_mc_AKGC417L.wav', '130_1p3_Pl_mc_AKGC417L.wav', '130_1p3_Pr_mc_AKGC417L.wav', '130_1p3_Tc_mc_AKGC417L.wav', '130_1p4_Al_mc_AKGC417L.wav', '130_1p4_Ar_mc_AKGC417L.wav', '130_1p4_Ll_mc_AKGC417L.wav', '130_1p4_Lr_mc_AKGC417L.wav', '130_1p4_Pl_mc_AKGC417L.wav', '130_1p4_Pr_mc_AKGC417L.wav', '130_1p4_Tc_mc_AKGC417L.wav', '130_2b2_Al_mc_AKGC417L.wav', '130_2b2_Ar_mc_AKGC417L.wav', '130_2b2_Ll_mc_AKGC417L.wav', '130_2b2_Lr_mc_AKGC417L.wav', '130_2b2_Pl_mc_AKGC417L.wav', '130_2b2_Pr_mc_AKGC417L.wav', '130_2b2_Tc_mc_AKGC417L.wav', '130_2b3_Al_mc_AKGC417L.wav', '130_2b3_Ar_mc_AKGC417L.wav', '130_2b3_Ll_mc_AKGC417L.wav', '130_2b3_Lr_mc_AKGC417L.wav', '130_2b3_Pl_mc_AKGC417L.wav', '130_2b3_Pr_mc_AKGC417L.wav', '130_2b3_Tc_mc_AKGC417L.wav', '130_2b4_Al_mc_AKGC417L.wav', '130_2b4_Ar_mc_AKGC417L.wav', '130_2b4_Ll_mc_AKGC417L.wav', '130_2b4_Lr_mc_AKGC417L.wav', '130_2b4_Pl_mc_AKGC417L.wav', '130_2p3_Pl_mc_AKGC417L.wav', '130_2p5_Al_mc_AKGC417L.wav', '130_2p5_Ar_mc_AKGC417L.wav', '130_2p5_Lr_mc_AKGC417L.wav', '130_2p5_Pl_mc_AKGC417L.wav', '130_2p5_Pr_mc_AKGC417L.wav', '130_2p5_Tc_mc_AKGC417L.wav', '130_3b3_Ll_mc_AKGC417L.wav', '130_3b4_Al_mc_AKGC417L.wav', '130_3b4_Ar_mc_AKGC417L.wav', '130_3b4_Lr_mc_AKGC417L.wav', '130_3b4_Pl_mc_AKGC417L.wav', '130_3b4_Pr_mc_AKGC417L.wav', '130_3p2_Al_mc_AKGC417L.wav', '130_3p2_Ar_mc_AKGC417L.wav', '130_3p2_Pl_mc_AKGC417L.wav', '130_3p2_Pr_mc_AKGC417L.wav', '130_3p2_Tc_mc_AKGC417L.wav', '130_3p3_Al_mc_AKGC417L.wav', '130_3p3_Pl_mc_AKGC417L.wav', '130_3p3_Pr_mc_AKGC417L.wav', '130_3p3_Tc_mc_AKGC417L.wav', '130_3p4_Al_mc_AKGC417L.wav', '130_3p4_Pl_mc_AKGC417L.wav', '130_3p4_Pr_mc_AKGC417L.wav', '130_3p4_Tc_mc_AKGC417L.wav', '131_1b1_Al_sc_Meditron.wav', '132_2b1_Lr_mc_LittC2SE.wav', '132_2b2_Lr_mc_LittC2SE.wav', '133_2p2_Al_mc_AKGC417L.wav', '133_2p2_Ar_mc_AKGC417L.wav', '133_2p2_Pl_mc_AKGC417L.wav', '133_2p2_Tc_mc_AKGC417L.wav', '133_2p3_Al_mc_AKGC417L.wav', '133_2p3_Ar_mc_AKGC417L.wav', '133_2p3_Pl_mc_AKGC417L.wav', '133_2p3_Pr_mc_AKGC417L.wav', '133_2p3_Tc_mc_AKGC417L.wav', '133_2p4_Al_mc_AKGC417L.wav', '133_2p4_Ar_mc_AKGC417L.wav', '133_2p4_Pl_mc_AKGC417L.wav', '133_2p4_Pr_mc_AKGC417L.wav', '133_2p4_Tc_mc_AKGC417L.wav', '133_3p2_Al_mc_AKGC417L.wav', '133_3p2_Ar_mc_AKGC417L.wav', '133_3p2_Pl_mc_AKGC417L.wav', '133_3p2_Pr_mc_AKGC417L.wav', '133_3p4_Tc_mc_AKGC417L.wav', '134_2b1_Al_mc_LittC2SE.wav', '134_2b1_Ar_mc_LittC2SE.wav', '134_2b2_Al_mc_LittC2SE.wav', '134_2b2_Ar_mc_LittC2SE.wav', '134_2b3_Ar_mc_LittC2SE.wav', '135_2b1_Al_mc_LittC2SE.wav', '135_2b1_Ar_mc_LittC2SE.wav', '135_2b1_Pl_mc_LittC2SE.wav', '135_2b1_Tc_mc_LittC2SE.wav', '135_2b2_Al_mc_LittC2SE.wav', '135_2b2_Ar_mc_LittC2SE.wav', '135_2b2_Pl_mc_LittC2SE.wav', '135_2b2_Tc_mc_LittC2SE.wav', '135_2b3_Al_mc_LittC2SE.wav', '135_2b3_Ar_mc_LittC2SE.wav', '135_2b3_Pl_mc_LittC2SE.wav', '135_2b3_Pr_mc_LittC2SE.wav', '135_2b3_Tc_mc_LittC2SE.wav', '136_1b1_Ar_sc_Meditron.wav', '137_1b1_Ar_sc_Meditron.wav', '137_1b1_Ll_sc_Meditron.wav', '138_1p2_Al_mc_AKGC417L.wav', '138_1p2_Ar_mc_AKGC417L.wav', '138_1p2_Ll_mc_AKGC417L.wav', '138_1p2_Lr_mc_AKGC417L.wav', '138_1p2_Pl_mc_AKGC417L.wav', '138_1p2_Pr_mc_AKGC417L.wav', '138_1p2_Tc_mc_AKGC417L.wav', '138_1p3_Al_mc_AKGC417L.wav', '138_1p3_Ar_mc_AKGC417L.wav', '138_1p3_Ll_mc_AKGC417L.wav', '138_1p3_Lr_mc_AKGC417L.wav', '138_1p3_Pl_mc_AKGC417L.wav', '138_1p3_Pr_mc_AKGC417L.wav', '138_1p3_Tc_mc_AKGC417L.wav', '138_1p4_Ar_mc_AKGC417L.wav', '138_1p4_Ll_mc_AKGC417L.wav', '138_1p4_Lr_mc_AKGC417L.wav', '138_1p4_Pl_mc_AKGC417L.wav', '138_1p4_Pr_mc_AKGC417L.wav', '138_1p4_Tc_mc_AKGC417L.wav', '138_2p2_Al_mc_AKGC417L.wav', '138_2p2_Ar_mc_AKGC417L.wav', '138_2p2_Ll_mc_AKGC417L.wav', '138_2p2_Lr_mc_AKGC417L.wav', '138_2p2_Pl_mc_AKGC417L.wav', '138_2p2_Pr_mc_AKGC417L.wav', '138_2p2_Tc_mc_AKGC417L.wav', '139_1b1_Al_sc_Litt3200.wav', '139_1b1_Ar_sc_Litt3200.wav', '139_1b1_Ll_sc_Litt3200.wav', '139_1b1_Lr_sc_Litt3200.wav', '139_1b1_Pl_sc_Litt3200.wav', '139_1b1_Pr_sc_Litt3200.wav', '140_2b2_Ll_mc_LittC2SE.wav', '140_2b2_Tc_mc_LittC2SE.wav', '140_2b3_Ll_mc_LittC2SE.wav', '140_2b3_Tc_mc_LittC2SE.wav', '141_1b1_Pr_mc_LittC2SE.wav', '141_1b2_Ar_mc_LittC2SE.wav', '141_1b2_Lr_mc_LittC2SE.wav', '141_1b2_Pr_mc_LittC2SE.wav', '141_1b2_Tc_mc_LittC2SE.wav', '141_1b3_Al_mc_LittC2SE.wav', '141_1b3_Ar_mc_LittC2SE.wav', '141_1b3_Pr_mc_LittC2SE.wav', '142_1b1_Pl_mc_LittC2SE.wav', '143_1b1_Al_sc_Meditron.wav', '144_1b1_Al_sc_Meditron.wav', '144_1b1_Tc_sc_Meditron.wav', '145_2b2_Al_mc_AKGC417L.wav', '145_2b2_Ar_mc_AKGC417L.wav', '145_2b2_Lr_mc_AKGC417L.wav', '145_2b2_Pr_mc_AKGC417L.wav', '145_3b2_Ar_mc_AKGC417L.wav', '145_3b2_Lr_mc_AKGC417L.wav', '145_3b4_Pl_mc_AKGC417L.wav', '146_2b2_Pl_mc_AKGC417L.wav', '146_2b4_Al_mc_AKGC417L.wav', '146_2b4_Ar_mc_AKGC417L.wav', '146_2b4_Ll_mc_AKGC417L.wav', '146_2b4_Lr_mc_AKGC417L.wav', '146_2b4_Pr_mc_AKGC417L.wav', '146_8p3_Al_mc_AKGC417L.wav', '146_8p3_Ar_mc_AKGC417L.wav', '146_8p3_Lr_mc_AKGC417L.wav', '146_8p3_Pl_mc_AKGC417L.wav', '146_8p3_Pr_mc_AKGC417L.wav', '147_1b2_Tc_mc_AKGC417L.wav', '147_1b3_Tc_mc_AKGC417L.wav', '147_1b4_Tc_mc_AKGC417L.wav', '147_2b2_Al_mc_AKGC417L.wav', '147_2b2_Ar_mc_AKGC417L.wav', '147_2b2_Pl_mc_AKGC417L.wav', '147_2b3_Al_mc_AKGC417L.wav', '147_2b3_Ar_mc_AKGC417L.wav', '147_2b3_Ll_mc_AKGC417L.wav', '147_2b3_Lr_mc_AKGC417L.wav', '147_2b3_Pl_mc_AKGC417L.wav', '147_2b4_Al_mc_AKGC417L.wav', '147_2b4_Ar_mc_AKGC417L.wav', '147_2b4_Ll_mc_AKGC417L.wav', '147_2b4_Lr_mc_AKGC417L.wav', '147_2b4_Pl_mc_AKGC417L.wav', '148_1b1_Al_sc_Meditron.wav', '149_1b1_Al_sc_Meditron.wav', '149_1b1_Lr_sc_Meditron.wav', '149_1b1_Pl_sc_Meditron.wav', '150_1b2_Al_sc_Meditron.wav', '151_2p2_Al_mc_AKGC417L.wav', '151_2p2_Ar_mc_AKGC417L.wav', '151_2p2_Ll_mc_AKGC417L.wav', '151_2p2_Lr_mc_AKGC417L.wav', '151_2p2_Pl_mc_AKGC417L.wav', '151_2p2_Pr_mc_AKGC417L.wav', '151_2p2_Tc_mc_AKGC417L.wav', '151_2p3_Al_mc_AKGC417L.wav', '151_2p3_Ar_mc_AKGC417L.wav', '151_2p3_Ll_mc_AKGC417L.wav', '151_2p3_Lr_mc_AKGC417L.wav', '151_2p3_Pl_mc_AKGC417L.wav', '151_2p3_Pr_mc_AKGC417L.wav', '151_2p3_Tc_mc_AKGC417L.wav', '151_2p4_Al_mc_AKGC417L.wav', '151_2p4_Ar_mc_AKGC417L.wav', '151_2p4_Ll_mc_AKGC417L.wav', '151_2p4_Lr_mc_AKGC417L.wav', '151_2p4_Pl_mc_AKGC417L.wav', '151_2p4_Pr_mc_AKGC417L.wav', '151_2p4_Tc_mc_AKGC417L.wav', '151_3p2_Al_mc_AKGC417L.wav', '151_3p2_Ar_mc_AKGC417L.wav', '151_3p2_Lr_mc_AKGC417L.wav', '151_3p2_Pl_mc_AKGC417L.wav', '151_3p2_Pr_mc_AKGC417L.wav', '151_3p2_Tc_mc_AKGC417L.wav', '151_3p3_Ll_mc_AKGC417L.wav', '152_1b1_Al_sc_Meditron.wav', '153_1b1_Al_sc_Meditron.wav', '154_1b3_Al_mc_AKGC417L.wav', '154_1b3_Ar_mc_AKGC417L.wav', '154_1b3_Ll_mc_AKGC417L.wav', '154_1b3_Lr_mc_AKGC417L.wav', '154_1b3_Pl_mc_AKGC417L.wav', '154_1b3_Pr_mc_AKGC417L.wav', '154_1b3_Tc_mc_AKGC417L.wav', '154_2b4_Al_mc_AKGC417L.wav', '154_2b4_Ar_mc_AKGC417L.wav', '154_2b4_Ll_mc_AKGC417L.wav', '154_2b4_Lr_mc_AKGC417L.wav', '154_2b4_Pl_mc_AKGC417L.wav', '154_2b4_Pr_mc_AKGC417L.wav', '154_2b4_Tc_mc_AKGC417L.wav', '154_3b3_Al_mc_AKGC417L.wav', '154_3b3_Ar_mc_AKGC417L.wav', '154_3b3_Ll_mc_AKGC417L.wav', '154_4b4_Al_mc_AKGC417L.wav', '154_4b4_Ar_mc_AKGC417L.wav', '154_4b4_Ll_mc_AKGC417L.wav', '154_4b4_Lr_mc_AKGC417L.wav', '154_4b4_Pl_mc_AKGC417L.wav', '154_4b4_Pr_mc_AKGC417L.wav', '155_2b1_Al_mc_LittC2SE.wav', '156_2b3_Al_mc_AKGC417L.wav', '156_2b3_Ar_mc_AKGC417L.wav', '156_2b3_Ll_mc_AKGC417L.wav', '156_2b3_Lr_mc_AKGC417L.wav', '156_2b3_Pl_mc_AKGC417L.wav', '156_2b3_Pr_mc_AKGC417L.wav', '156_5b3_Al_mc_AKGC417L.wav', '156_5b3_Ar_mc_AKGC417L.wav', '156_5b3_Ll_mc_AKGC417L.wav', '156_5b3_Lr_mc_AKGC417L.wav', '156_5b3_Pl_mc_AKGC417L.wav', '156_5b3_Pr_mc_AKGC417L.wav', '156_8b3_Al_mc_AKGC417L.wav', '156_8b3_Ar_mc_AKGC417L.wav', '156_8b3_Ll_mc_AKGC417L.wav', '156_8b3_Lr_mc_AKGC417L.wav', '156_8b3_Pl_mc_AKGC417L.wav', '157_1b1_Al_sc_Meditron.wav', '157_1b1_Ar_sc_Meditron.wav', '157_1b1_Lr_sc_Meditron.wav', '157_1b1_Pl_sc_Meditron.wav', '157_1b1_Pr_sc_Meditron.wav', '158_1b3_Ar_mc_LittC2SE.wav', '158_1p2_Al_mc_AKGC417L.wav', '158_1p2_Ar_mc_AKGC417L.wav', '158_1p2_Ll_mc_AKGC417L.wav', '158_1p2_Lr_mc_AKGC417L.wav', '158_1p2_Pl_mc_AKGC417L.wav', '158_1p2_Pr_mc_AKGC417L.wav', '158_1p2_Tc_mc_AKGC417L.wav', '158_1p3_Al_mc_AKGC417L.wav', '158_1p3_Ar_mc_AKGC417L.wav', '158_1p3_Ll_mc_AKGC417L.wav', '158_1p3_Lr_mc_AKGC417L.wav', '158_1p3_Pl_mc_AKGC417L.wav', '158_1p3_Pr_mc_AKGC417L.wav', '158_1p3_Tc_mc_AKGC417L.wav', '158_1p4_Al_mc_AKGC417L.wav', '158_1p4_Ar_mc_AKGC417L.wav', '158_1p4_Lr_mc_AKGC417L.wav', '158_1p4_Pl_mc_AKGC417L.wav', '158_1p4_Pr_mc_AKGC417L.wav', '158_1p4_Tc_mc_AKGC417L.wav', '158_2p2_Ar_mc_AKGC417L.wav', '158_2p3_Lr_mc_AKGC417L.wav', '158_2p3_Tc_mc_AKGC417L.wav', '159_1b1_Al_sc_Meditron.wav', '159_1b1_Ar_sc_Meditron.wav', '159_1b1_Ll_sc_Meditron.wav', '159_1b1_Pr_sc_Meditron.wav', '160_1b2_Al_mc_AKGC417L.wav', '160_1b2_Ar_mc_AKGC417L.wav', '160_1b2_Lr_mc_AKGC417L.wav', '160_1b2_Pl_mc_AKGC417L.wav', '160_1b2_Pr_mc_AKGC417L.wav', '160_1b2_Tc_mc_AKGC417L.wav', '160_1b3_Al_mc_AKGC417L.wav', '160_1b3_Ar_mc_AKGC417L.wav', '160_1b3_Lr_mc_AKGC417L.wav', '160_1b3_Pl_mc_AKGC417L.wav', '160_1b3_Pr_mc_AKGC417L.wav', '160_1b3_Tc_mc_AKGC417L.wav', '160_1b4_Al_mc_AKGC417L.wav', '160_1b4_Ar_mc_AKGC417L.wav', '160_1b4_Lr_mc_AKGC417L.wav', '160_1b4_Pl_mc_AKGC417L.wav', '160_1b4_Pr_mc_AKGC417L.wav', '160_1b4_Tc_mc_AKGC417L.wav', '160_2b3_Lr_mc_AKGC417L.wav', '160_2b4_Ar_mc_AKGC417L.wav', '160_2b4_Pl_mc_AKGC417L.wav', '160_2b4_Pr_mc_AKGC417L.wav', '160_2b4_Tc_mc_AKGC417L.wav', '161_1b1_Al_sc_Meditron.wav', '161_1b1_Pl_sc_Meditron.wav', '162_1b2_Al_mc_AKGC417L.wav', '162_1b2_Ar_mc_AKGC417L.wav', '162_1b2_Ll_mc_AKGC417L.wav', '162_1b2_Lr_mc_AKGC417L.wav', '162_1b2_Pl_mc_AKGC417L.wav', '162_1b2_Pr_mc_AKGC417L.wav', '162_1b2_Tc_mc_AKGC417L.wav', '162_2b2_Al_mc_AKGC417L.wav', '162_2b2_Ar_mc_AKGC417L.wav', '162_2b2_Pl_mc_AKGC417L.wav', '162_2b2_Pr_mc_AKGC417L.wav', '162_2b2_Tc_mc_AKGC417L.wav', '162_2b3_Al_mc_AKGC417L.wav', '162_2b3_Ar_mc_AKGC417L.wav', '162_2b3_Lr_mc_AKGC417L.wav', '162_2b3_Pl_mc_AKGC417L.wav', '162_2b3_Pr_mc_AKGC417L.wav', '162_2b3_Tc_mc_AKGC417L.wav', '162_2b4_Al_mc_AKGC417L.wav', '162_2b4_Ar_mc_AKGC417L.wav', '162_2b4_Lr_mc_AKGC417L.wav', '162_2b4_Pl_mc_AKGC417L.wav', '162_2b4_Pr_mc_AKGC417L.wav', '162_2b4_Tc_mc_AKGC417L.wav', '163_2b2_Al_mc_AKGC417L.wav', '163_2b2_Ar_mc_AKGC417L.wav', '163_2b2_Ll_mc_AKGC417L.wav', '163_2b2_Lr_mc_AKGC417L.wav', '163_2b2_Pl_mc_AKGC417L.wav', '163_2b2_Pr_mc_AKGC417L.wav', '163_2b2_Tc_mc_AKGC417L.wav', '163_8b3_Al_mc_AKGC417L.wav', '163_8b3_Ar_mc_AKGC417L.wav', '163_8b3_Ll_mc_AKGC417L.wav', '163_8b3_Lr_mc_AKGC417L.wav', '163_8b3_Pl_mc_AKGC417L.wav', '163_8b3_Pr_mc_AKGC417L.wav', '164_1b1_Ll_sc_Meditron.wav', '165_1b1_Ar_sc_Meditron.wav', '165_1b1_Pl_sc_Meditron.wav', '165_1b1_Pr_sc_Meditron.wav', '166_1p1_Al_sc_Meditron.wav', '166_1p1_Ar_sc_Meditron.wav', '166_1p1_Ll_sc_Meditron.wav', '166_1p1_Pl_sc_Meditron.wav', '166_1p1_Pr_sc_Meditron.wav', '167_1b1_Al_sc_Meditron.wav', '167_1b1_Pr_sc_Meditron.wav', '168_1b1_Al_sc_Meditron.wav', '169_1b1_Lr_sc_Meditron.wav', '169_1b2_Ll_sc_Meditron.wav', '170_1b2_Al_mc_AKGC417L.wav', '170_1b2_Ar_mc_AKGC417L.wav', '170_1b2_Lr_mc_AKGC417L.wav', '170_1b2_Pl_mc_AKGC417L.wav', '170_1b2_Pr_mc_AKGC417L.wav', '170_1b2_Tc_mc_AKGC417L.wav', '170_1b3_Al_mc_AKGC417L.wav', '170_1b3_Ar_mc_AKGC417L.wav', '170_1b3_Ll_mc_AKGC417L.wav', '170_1b3_Lr_mc_AKGC417L.wav', '170_1b3_Pl_mc_AKGC417L.wav', '170_1b3_Pr_mc_AKGC417L.wav', '170_1b3_Tc_mc_AKGC417L.wav', '170_1b4_Al_mc_AKGC417L.wav', '170_1b4_Ar_mc_AKGC417L.wav', '170_1b4_Lr_mc_AKGC417L.wav', '170_1b4_Pl_mc_AKGC417L.wav', '170_1b4_Pr_mc_AKGC417L.wav', '170_1b4_Tc_mc_AKGC417L.wav', '170_2b2_Al_mc_AKGC417L.wav', '170_2b2_Ar_mc_AKGC417L.wav', '170_2b2_Lr_mc_AKGC417L.wav', '170_2b2_Pl_mc_AKGC417L.wav', '170_2b2_Pr_mc_AKGC417L.wav', '170_2b2_Tc_mc_AKGC417L.wav', '171_1b1_Al_sc_Meditron.wav', '172_1b3_Al_mc_AKGC417L.wav', '172_1b3_Ar_mc_AKGC417L.wav', '172_1b3_Ll_mc_AKGC417L.wav', '172_1b3_Lr_mc_AKGC417L.wav', '172_1b3_Pl_mc_AKGC417L.wav', '172_1b3_Pr_mc_AKGC417L.wav', '172_1b3_Tc_mc_AKGC417L.wav', '172_1b4_Al_mc_AKGC417L.wav', '172_1b4_Ar_mc_AKGC417L.wav', '172_1b4_Ll_mc_AKGC417L.wav', '172_1b4_Lr_mc_AKGC417L.wav', '172_1b4_Pl_mc_AKGC417L.wav', '172_1b4_Pr_mc_AKGC417L.wav', '172_1b4_Tc_mc_AKGC417L.wav', '172_1b5_Al_mc_AKGC417L.wav', '172_1b5_Ar_mc_AKGC417L.wav', '172_1b5_Ll_mc_AKGC417L.wav', '172_1b5_Lr_mc_AKGC417L.wav', '172_1b5_Pl_mc_AKGC417L.wav', '172_1b5_Pr_mc_AKGC417L.wav', '172_1b5_Tc_mc_AKGC417L.wav', '172_2b5_Al_mc_AKGC417L.wav', '172_2b5_Ar_mc_AKGC417L.wav', '172_2b5_Lr_mc_AKGC417L.wav', '172_2b5_Pl_mc_AKGC417L.wav', '172_2b5_Pr_mc_AKGC417L.wav', '172_2b5_Tc_mc_AKGC417L.wav', '173_1b1_Al_sc_Meditron.wav', '174_1p2_Ar_mc_AKGC417L.wav', '174_1p2_Ll_mc_AKGC417L.wav', '174_1p2_Lr_mc_AKGC417L.wav', '174_1p2_Pl_mc_AKGC417L.wav', '174_1p2_Pr_mc_AKGC417L.wav', '174_1p2_Tc_mc_AKGC417L.wav', '174_1p3_Ar_mc_AKGC417L.wav', '174_1p3_Ll_mc_AKGC417L.wav', '174_1p3_Lr_mc_AKGC417L.wav', '174_1p3_Pl_mc_AKGC417L.wav', '174_1p3_Pr_mc_AKGC417L.wav', '174_1p3_Tc_mc_AKGC417L.wav', '174_1p4_Ar_mc_AKGC417L.wav', '174_1p4_Ll_mc_AKGC417L.wav', '174_1p4_Lr_mc_AKGC417L.wav', '174_1p4_Pl_mc_AKGC417L.wav', '174_1p4_Pr_mc_AKGC417L.wav', '174_1p4_Tc_mc_AKGC417L.wav', '174_2p3_Al_mc_AKGC417L.wav', '174_2p3_Ar_mc_AKGC417L.wav', '174_2p3_Pl_mc_AKGC417L.wav', '174_2p3_Pr_mc_AKGC417L.wav', '174_2p3_Tc_mc_AKGC417L.wav', '175_1b1_Al_sc_Litt3200.wav', '175_1b1_Ar_sc_Litt3200.wav', '175_1b1_Ll_sc_Litt3200.wav', '175_1b1_Lr_sc_Litt3200.wav', '175_1b1_Pl_sc_Litt3200.wav', '175_1b1_Pr_sc_Litt3200.wav', '176_1b3_Al_mc_AKGC417L.wav', '176_1b3_Ar_mc_AKGC417L.wav', '176_1b3_Ll_mc_AKGC417L.wav', '176_1b3_Lr_mc_AKGC417L.wav', '176_1b3_Pl_mc_AKGC417L.wav', '176_1b3_Pr_mc_AKGC417L.wav', '176_1b3_Tc_mc_AKGC417L.wav', '176_1b4_Al_mc_AKGC417L.wav', '176_1b4_Ar_mc_AKGC417L.wav', '176_1b4_Ll_mc_AKGC417L.wav', '176_1b4_Lr_mc_AKGC417L.wav', '176_1b4_Pl_mc_AKGC417L.wav', '176_1b4_Pr_mc_AKGC417L.wav', '176_1b4_Tc_mc_AKGC417L.wav', '176_2b3_Al_mc_AKGC417L.wav', '176_2b3_Ar_mc_AKGC417L.wav', '176_2b3_Ll_mc_AKGC417L.wav', '176_2b3_Lr_mc_AKGC417L.wav', '176_2b3_Pl_mc_AKGC417L.wav', '176_2b3_Pr_mc_AKGC417L.wav', '176_2b3_Tc_mc_AKGC417L.wav', '177_1b2_Al_mc_AKGC417L.wav', '177_1b2_Ar_mc_AKGC417L.wav', '177_1b2_Lr_mc_AKGC417L.wav', '177_1b2_Pl_mc_AKGC417L.wav', '177_1b2_Pr_mc_AKGC417L.wav', '177_1b2_Tc_mc_AKGC417L.wav', '177_1b4_Al_mc_AKGC417L.wav', '177_1b4_Ar_mc_AKGC417L.wav', '177_1b4_Lr_mc_AKGC417L.wav', '177_1b4_Pl_mc_AKGC417L.wav', '177_1b4_Pr_mc_AKGC417L.wav', '177_1b4_Tc_mc_AKGC417L.wav', '177_2b4_Al_mc_AKGC417L.wav', '177_2b4_Lr_mc_AKGC417L.wav', '177_2b4_Pl_mc_AKGC417L.wav', '177_2b4_Pr_mc_AKGC417L.wav', '177_2b4_Tc_mc_AKGC417L.wav', '178_1b2_Al_mc_AKGC417L.wav', '178_1b2_Ar_mc_AKGC417L.wav', '178_1b2_Lr_mc_AKGC417L.wav', '178_1b2_Pl_mc_AKGC417L.wav', '178_1b2_Pr_mc_AKGC417L.wav', '178_1b2_Tc_mc_AKGC417L.wav', '178_1b3_Al_mc_AKGC417L.wav', '178_1b3_Ar_mc_AKGC417L.wav', '178_1b3_Lr_mc_AKGC417L.wav', '178_1b3_Pl_mc_AKGC417L.wav', '178_1b3_Pr_mc_AKGC417L.wav', '178_1b3_Tc_mc_AKGC417L.wav', '178_1b6_Al_mc_AKGC417L.wav', '178_1b6_Ar_mc_AKGC417L.wav', '178_1b6_Ll_mc_AKGC417L.wav', '178_1b6_Lr_mc_AKGC417L.wav', '178_1b6_Pl_mc_AKGC417L.wav', '178_1b6_Pr_mc_AKGC417L.wav', '178_1b6_Tc_mc_AKGC417L.wav', '178_2b2_Al_mc_AKGC417L.wav', '178_2b2_Ar_mc_AKGC417L.wav', '178_2b2_Lr_mc_AKGC417L.wav', '178_2b2_Pr_mc_AKGC417L.wav', '178_2b2_Tc_mc_AKGC417L.wav', '179_1b1_Al_sc_Meditron.wav', '179_1b1_Tc_sc_Meditron.wav', '180_1b4_Al_mc_AKGC417L.wav', '180_1b4_Ar_mc_AKGC417L.wav', '180_1b4_Lr_mc_AKGC417L.wav', '180_1b4_Pl_mc_AKGC417L.wav', '180_1b4_Pr_mc_AKGC417L.wav', '181_1b1_Ar_mc_LittC2SE.wav', '181_1b1_Tc_mc_LittC2SE.wav', '181_1b2_Ar_mc_LittC2SE.wav', '181_1b3_Tc_mc_LittC2SE.wav', '182_1b1_Tc_sc_Meditron.wav', '183_1b1_Pl_sc_Meditron.wav', '183_1b1_Tc_sc_Meditron.wav', '184_1b1_Ar_sc_Meditron.wav', '185_1b1_Al_sc_Litt3200.wav', '185_1b1_Ar_sc_Litt3200.wav', '185_1b1_Ll_sc_Litt3200.wav', '185_1b1_Lr_sc_Litt3200.wav', '185_1b1_Pl_sc_Litt3200.wav', '185_1b1_Pr_sc_Litt3200.wav', '186_2b2_Al_mc_AKGC417L.wav', '186_2b2_Ar_mc_AKGC417L.wav', '186_2b2_Lr_mc_AKGC417L.wav', '186_2b2_Pl_mc_AKGC417L.wav', '186_2b2_Pr_mc_AKGC417L.wav', '186_2b2_Tc_mc_AKGC417L.wav', '186_2b3_Al_mc_AKGC417L.wav', '186_2b3_Ar_mc_AKGC417L.wav', '186_2b3_Lr_mc_AKGC417L.wav', '186_2b3_Pl_mc_AKGC417L.wav', '186_2b3_Pr_mc_AKGC417L.wav', '186_2b3_Tc_mc_AKGC417L.wav', '186_2b4_Al_mc_AKGC417L.wav', '186_2b4_Ar_mc_AKGC417L.wav', '186_2b4_Lr_mc_AKGC417L.wav', '186_2b4_Pl_mc_AKGC417L.wav', '186_2b4_Pr_mc_AKGC417L.wav', '186_2b4_Tc_mc_AKGC417L.wav', '186_3b3_Al_mc_AKGC417L.wav', '186_3b3_Ar_mc_AKGC417L.wav', '186_3b3_Lr_mc_AKGC417L.wav', '186_3b3_Pl_mc_AKGC417L.wav', '186_3b3_Pr_mc_AKGC417L.wav', '186_3b3_Tc_mc_AKGC417L.wav', '187_1b1_Ll_sc_Meditron.wav', '188_1b1_Al_sc_Meditron.wav', '188_1b1_Ar_sc_Meditron.wav', '188_1b1_Pl_sc_Meditron.wav', '188_1b1_Tc_sc_Meditron.wav', '189_1b2_Lr_mc_LittC2SE.wav', '190_1b1_Tc_sc_Meditron.wav', '191_2b1_Pl_mc_LittC2SE.wav', '191_2b1_Pr_mc_LittC2SE.wav', '191_2b2_Tc_mc_LittC2SE.wav', '192_2b1_Al_mc_LittC2SE.wav', '192_2b1_Ar_mc_LittC2SE.wav', '192_2b2_Al_mc_LittC2SE.wav', '192_2b2_Ar_mc_LittC2SE.wav', '192_2b3_Al_mc_LittC2SE.wav', '192_2b3_Ar_mc_LittC2SE.wav', '193_1b2_Al_mc_AKGC417L.wav', '193_1b2_Ar_mc_AKGC417L.wav', '193_1b2_Ll_mc_AKGC417L.wav', '193_1b2_Pl_mc_AKGC417L.wav', '193_1b2_Pr_mc_AKGC417L.wav', '193_1b2_Tc_mc_AKGC417L.wav', '193_1b4_Lr_mc_AKGC417L.wav', '193_7b3_Al_mc_AKGC417L.wav', '193_7b3_Ar_mc_AKGC417L.wav', '193_7b3_Ll_mc_AKGC417L.wav', '193_7b3_Lr_mc_AKGC417L.wav', '193_7b3_Pl_mc_AKGC417L.wav', '193_7b3_Pr_mc_AKGC417L.wav', '193_7b3_Tc_mc_AKGC417L.wav', '194_1b1_Lr_sc_Meditron.wav', '194_1b1_Pr_sc_Meditron.wav', '195_1b1_Al_sc_Litt3200.wav', '195_1b1_Ar_sc_Litt3200.wav', '195_1b1_Ll_sc_Litt3200.wav', '195_1b1_Lr_sc_Litt3200.wav', '195_1b1_Pl_sc_Litt3200.wav', '195_1b1_Pr_sc_Litt3200.wav', '196_1b1_Pr_sc_Meditron.wav', '197_1b1_Al_sc_Meditron.wav', '197_1b1_Tc_sc_Meditron.wav', '198_1b5_Al_mc_AKGC417L.wav', '198_1b5_Ar_mc_AKGC417L.wav', '198_1b5_Ll_mc_AKGC417L.wav', '198_1b5_Lr_mc_AKGC417L.wav', '198_1b5_Pl_mc_AKGC417L.wav', '198_1b5_Pr_mc_AKGC417L.wav', '198_1b5_Tc_mc_AKGC417L.wav', '198_6p1_Al_mc_AKGC417L.wav', '198_6p1_Ar_mc_AKGC417L.wav', '198_6p1_Ll_mc_AKGC417L.wav', '198_6p1_Lr_mc_AKGC417L.wav', '198_6p1_Pl_mc_AKGC417L.wav', '198_6p1_Pr_mc_AKGC417L.wav', '198_6p1_Tc_mc_AKGC417L.wav', '199_2b1_Ll_mc_LittC2SE.wav', '199_2b3_Ll_mc_LittC2SE.wav', '200_2p2_Al_mc_AKGC417L.wav', '200_2p2_Ar_mc_AKGC417L.wav', '200_2p2_Lr_mc_AKGC417L.wav', '200_2p2_Pl_mc_AKGC417L.wav', '200_2p2_Pr_mc_AKGC417L.wav', '200_2p2_Tc_mc_AKGC417L.wav', '200_2p3_Al_mc_AKGC417L.wav', '200_2p3_Ar_mc_AKGC417L.wav', '200_2p3_Lr_mc_AKGC417L.wav', '200_2p3_Pl_mc_AKGC417L.wav', '200_2p3_Pr_mc_AKGC417L.wav', '200_2p3_Tc_mc_AKGC417L.wav', '200_2p4_Al_mc_AKGC417L.wav', '200_2p4_Ar_mc_AKGC417L.wav', '200_2p4_Lr_mc_AKGC417L.wav', '200_2p4_Pl_mc_AKGC417L.wav', '200_2p4_Pr_mc_AKGC417L.wav', '200_2p4_Tc_mc_AKGC417L.wav', '200_3p4_Al_mc_AKGC417L.wav', '200_3p4_Ar_mc_AKGC417L.wav', '200_3p4_Pl_mc_AKGC417L.wav', '200_3p4_Pr_mc_AKGC417L.wav', '200_3p4_Tc_mc_AKGC417L.wav', '201_1b1_Al_sc_Meditron.wav', '201_1b1_Ar_sc_Meditron.wav', '201_1b2_Al_sc_Meditron.wav', '201_1b2_Ar_sc_Meditron.wav', '201_1b3_Al_sc_Meditron.wav', '201_1b3_Ar_sc_Meditron.wav', '202_1b1_Ar_sc_Meditron.wav', '203_1p2_Al_mc_AKGC417L.wav', '203_1p2_Ar_mc_AKGC417L.wav', '203_1p2_Lr_mc_AKGC417L.wav', '203_1p2_Pl_mc_AKGC417L.wav', '203_1p2_Pr_mc_AKGC417L.wav', '203_1p2_Tc_mc_AKGC417L.wav', '203_1p3_Al_mc_AKGC417L.wav', '203_1p3_Ar_mc_AKGC417L.wav', '203_1p3_Pl_mc_AKGC417L.wav', '203_1p3_Pr_mc_AKGC417L.wav', '203_1p3_Tc_mc_AKGC417L.wav', '203_1p4_Al_mc_AKGC417L.wav', '203_1p4_Ar_mc_AKGC417L.wav', '203_1p4_Pl_mc_AKGC417L.wav', '203_1p4_Pr_mc_AKGC417L.wav', '203_1p4_Tc_mc_AKGC417L.wav', '203_2p3_Al_mc_AKGC417L.wav', '203_2p3_Ar_mc_AKGC417L.wav', '203_2p3_Pl_mc_AKGC417L.wav', '203_2p3_Pr_mc_AKGC417L.wav', '203_2p3_Tc_mc_AKGC417L.wav', '204_2b5_Al_mc_AKGC417L.wav', '204_2b5_Ar_mc_AKGC417L.wav', '204_2b5_Ll_mc_AKGC417L.wav', '204_7p5_Al_mc_AKGC417L.wav', '204_7p5_Ar_mc_AKGC417L.wav', '204_7p5_Ll_mc_AKGC417L.wav', '204_7p5_Lr_mc_AKGC417L.wav', '204_7p5_Pr_mc_AKGC417L.wav', '204_7p5_Tc_mc_AKGC417L.wav', '205_1b3_Al_mc_AKGC417L.wav', '205_1b3_Ar_mc_AKGC417L.wav', '205_1b3_Ll_mc_AKGC417L.wav', '205_1b3_Lr_mc_AKGC417L.wav', '205_1b3_Pl_mc_AKGC417L.wav', '205_1b3_Pr_mc_AKGC417L.wav', '205_2b2_Pr_mc_AKGC417L.wav', '205_2b3_Al_mc_AKGC417L.wav', '205_2b3_Ar_mc_AKGC417L.wav', '205_2b3_Ll_mc_AKGC417L.wav', '205_2b4_Pl_mc_AKGC417L.wav', '205_3b4_Al_mc_AKGC417L.wav', '205_3b4_Ar_mc_AKGC417L.wav', '205_3b4_Pl_mc_AKGC417L.wav', '205_3b4_Pr_mc_AKGC417L.wav', '205_4b2_Al_mc_AKGC417L.wav', '205_4b2_Ar_mc_AKGC417L.wav', '205_4b2_Lr_mc_AKGC417L.wav', '205_4b2_Pl_mc_AKGC417L.wav', '205_4b2_Pr_mc_AKGC417L.wav', '206_1b1_Ar_sc_Meditron.wav', '206_1b1_Lr_sc_Meditron.wav', '206_1b1_Pl_sc_Meditron.wav', '207_2b2_Al_mc_AKGC417L.wav', '207_2b2_Ar_mc_AKGC417L.wav', '207_2b2_Pl_mc_AKGC417L.wav', '207_2b2_Pr_mc_AKGC417L.wav', '207_2b2_Tc_mc_AKGC417L.wav', '207_2b3_Al_mc_AKGC417L.wav', '207_2b3_Ar_mc_AKGC417L.wav', '207_2b3_Pl_mc_AKGC417L.wav', '207_2b3_Pr_mc_AKGC417L.wav', '207_2b3_Tc_mc_AKGC417L.wav', '207_2b4_Al_mc_AKGC417L.wav', '207_2b4_Ar_mc_AKGC417L.wav', '207_2b4_Pl_mc_AKGC417L.wav', '207_2b4_Pr_mc_AKGC417L.wav', '207_2b4_Tc_mc_AKGC417L.wav', '207_3b2_Al_mc_AKGC417L.wav', '207_3b2_Ar_mc_AKGC417L.wav', '207_3b2_Lr_mc_AKGC417L.wav', '207_3b2_Pl_mc_AKGC417L.wav', '207_3b2_Pr_mc_AKGC417L.wav', '207_3b2_Tc_mc_AKGC417L.wav', '208_1b1_Ll_sc_Meditron.wav', '209_1b1_Tc_sc_Meditron.wav', '210_1b1_Al_sc_Meditron.wav', '210_1b1_Ar_sc_Meditron.wav', '211_1p2_Ar_mc_AKGC417L.wav', '211_1p2_Pl_mc_AKGC417L.wav', '211_1p2_Pr_mc_AKGC417L.wav', '211_1p3_Ar_mc_AKGC417L.wav', '211_1p5_Ar_mc_AKGC417L.wav', '211_2p2_Tc_mc_AKGC417L.wav', '211_2p3_Tc_mc_AKGC417L.wav', '211_2p4_Tc_mc_AKGC417L.wav', '212_2b2_Tc_mc_LittC2SE.wav', '213_1p2_Al_mc_AKGC417L.wav', '213_1p2_Ar_mc_AKGC417L.wav', '213_1p2_Lr_mc_AKGC417L.wav', '213_1p2_Pl_mc_AKGC417L.wav', '213_1p2_Pr_mc_AKGC417L.wav', '213_1p2_Tc_mc_AKGC417L.wav', '213_1p3_Al_mc_AKGC417L.wav', '213_1p3_Ar_mc_AKGC417L.wav', '213_1p3_Pl_mc_AKGC417L.wav', '213_1p3_Pr_mc_AKGC417L.wav', '213_1p5_Al_mc_AKGC417L.wav', '213_1p5_Ar_mc_AKGC417L.wav', '213_1p5_Pl_mc_AKGC417L.wav', '213_1p5_Pr_mc_AKGC417L.wav', '213_1p5_Tc_mc_AKGC417L.wav', '213_2p2_Al_mc_AKGC417L.wav', '213_2p2_Ar_mc_AKGC417L.wav', '213_2p2_Pl_mc_AKGC417L.wav', '213_2p2_Pr_mc_AKGC417L.wav', '213_2p2_Tc_mc_AKGC417L.wav', '214_1b1_Ar_sc_Meditron.wav', '215_1b2_Ar_sc_Meditron.wav', '215_1b3_Tc_sc_Meditron.wav', '216_1b1_Al_sc_Meditron.wav', '216_1b1_Pl_sc_Meditron.wav', '217_1b1_Tc_sc_Meditron.wav', '218_1b1_Al_sc_Meditron.wav', '218_1b1_Ar_sc_Meditron.wav', '218_1b1_Lr_sc_Meditron.wav', '218_1b1_Pl_sc_Meditron.wav', '218_1b1_Pr_sc_Meditron.wav', '218_1p1_Ar_sc_Litt3200.wav', '218_1p1_Pl_sc_Litt3200.wav', '218_1p1_Pr_sc_Litt3200.wav', '219_2b1_Ar_mc_LittC2SE.wav', '219_2b1_Tc_mc_LittC2SE.wav', '219_2b2_Ar_mc_LittC2SE.wav', '219_2b2_Tc_mc_LittC2SE.wav', '219_2b3_Tc_mc_LittC2SE.wav', '220_1b1_Tc_mc_LittC2SE.wav', '220_1b2_Al_mc_LittC2SE.wav', '221_2b1_Al_mc_LittC2SE.wav', '221_2b1_Ar_mc_LittC2SE.wav', '221_2b1_Lr_mc_LittC2SE.wav', '221_2b1_Pl_mc_LittC2SE.wav', '221_2b2_Al_mc_LittC2SE.wav', '221_2b2_Ar_mc_LittC2SE.wav', '221_2b2_Lr_mc_LittC2SE.wav', '221_2b2_Pl_mc_LittC2SE.wav', '221_2b3_Al_mc_LittC2SE.wav', '221_2b3_Ar_mc_LittC2SE.wav', '221_2b3_Lr_mc_LittC2SE.wav', '221_2b3_Pr_mc_LittC2SE.wav', '222_1b1_Ar_sc_Meditron.wav', '222_1b1_Lr_sc_Meditron.wav', '222_1b1_Pr_sc_Meditron.wav', '223_1b1_Al_sc_Meditron.wav', '223_1b1_Ar_sc_Meditron.wav', '223_1b1_Ll_sc_Meditron.wav', '223_1b1_Lr_sc_Meditron.wav', '223_1b1_Pl_sc_Meditron.wav', '223_1b1_Pr_sc_Meditron.wav', '224_1b1_Tc_sc_Meditron.wav', '224_1b2_Al_sc_Meditron.wav', '225_1b1_Pl_sc_Meditron.wav', '226_1b1_Al_sc_Meditron.wav', '226_1b1_Ll_sc_Meditron.wav', '226_1b1_Pl_sc_LittC2SE.wav']\n"
     ]
    }
   ],
   "source": [
    "directory = 'archive/Respiratory_Sound_Database/Respiratory_Sound_Database/audio_and_txt_files'\n",
    "audio_file_names = [file for file in os.listdir(directory) if file.endswith('.wav')]\n",
    "print(audio_file_names)"
   ]
  },
  {
   "cell_type": "code",
   "execution_count": 30,
   "metadata": {},
   "outputs": [],
   "source": [
    "audio_files = {}\n",
    "audio_files_sr = {}\n",
    "for file_name in audio_file_names:\n",
    "    audio_files[file_name], audio_files_sr[file_name] = librosa.load(f'archive/Respiratory_Sound_Database/Respiratory_Sound_Database/audio_and_txt_files/{file_name}')"
   ]
  },
  {
   "cell_type": "code",
   "execution_count": 31,
   "metadata": {},
   "outputs": [],
   "source": [
    "target_duration = 20  \n",
    "audio_padded_base = {}\n",
    "\n",
    "for file_name in audio_files:\n",
    "    audio_padded_base[file_name] = librosa.util.fix_length(audio_files[file_name], size=target_duration*audio_files_sr[file_name])"
   ]
  },
  {
   "cell_type": "code",
   "execution_count": 32,
   "metadata": {},
   "outputs": [],
   "source": [
    "def generate_mel_features(audio_padded_base, audio_files_sr, audio_file_names):\n",
    "    spectrograms_base = {}\n",
    "    spectrograms_dB_base = {}\n",
    "    mfcc_base = {}\n",
    "    for file_name in tqdm(audio_file_names):\n",
    "        spectrograms_base[file_name] = librosa.feature.melspectrogram(y=audio_padded_base[file_name], sr=audio_files_sr[file_name], n_mels=24)\n",
    "        spectrograms_dB_base[file_name] = librosa.power_to_db(spectrograms_base[file_name], ref=np.max)\n",
    "        mfcc_base[file_name] = librosa.feature.mfcc(S=spectrograms_dB_base[file_name], n_mfcc=24)\n",
    "    \n",
    "    return spectrograms_base, spectrograms_dB_base, mfcc_base"
   ]
  },
  {
   "cell_type": "code",
   "execution_count": 33,
   "metadata": {},
   "outputs": [],
   "source": [
    "def generate_chroma_features(audio_padded_base, audio_files_sr, audio_file_names):\n",
    "    chromagrams_base = {}\n",
    "    cens_base = {}\n",
    "    for file_name in tqdm(audio_file_names):\n",
    "        chromagrams_base[file_name] = librosa.feature.chroma_stft(y=audio_padded_base[file_name], sr=audio_files_sr[file_name])\n",
    "        cens_base[file_name] = librosa.feature.chroma_cens(C=chromagrams_base[file_name])\n",
    "    \n",
    "    return chromagrams_base, cens_base"
   ]
  },
  {
   "cell_type": "code",
   "execution_count": 34,
   "metadata": {},
   "outputs": [],
   "source": [
    "def save_figures(data, audio_file_names, y_axis, save_name):\n",
    "    #y_axis = 'mel' or 'chroma'\n",
    "    for file_name in tqdm(audio_file_names):\n",
    "        librosa.display.specshow(data[file_name], x_axis='time', y_axis=y_axis)\n",
    "        plt.axis('off')  # Turn off axes\n",
    "        plt.xticks([])  # Remove x-axis ticks\n",
    "        plt.yticks([])  # Remove y-axis ticks\n",
    "        plt.savefig(f'{save_name}/{file_name[:-4]}.png', bbox_inches='tight', pad_inches=0)\n",
    "        plt.close()"
   ]
  },
  {
   "cell_type": "code",
   "execution_count": 35,
   "metadata": {},
   "outputs": [],
   "source": [
    "def gen_save_pipeline(audio_padded_base, audio_files_sr, audio_file_names, category):\n",
    "    print(f'Generating features...')\n",
    "    spectrograms_base, spectrograms_dB_base, mfcc_base = generate_mel_features(audio_padded_base, audio_files_sr, audio_file_names)\n",
    "    chromagrams_base, cens_base = generate_chroma_features(audio_padded_base, audio_files_sr, audio_file_names)\n",
    "\n",
    "    print(f'Features generated. Saving figures...')\n",
    "    save_figures(spectrograms_dB_base, audio_file_names, 'mel', f'{category}_spectrograms')\n",
    "    save_figures(mfcc_base, audio_file_names, 'mel', f'{category}_mfcc')\n",
    "    save_figures(chromagrams_base, audio_file_names, 'chroma', f'{category}_chroma')\n",
    "    save_figures(cens_base, audio_file_names, 'chroma', f'{category}_cens')\n",
    "    print(f'Done!')"
   ]
  },
  {
   "cell_type": "code",
   "execution_count": 36,
   "metadata": {},
   "outputs": [],
   "source": [
    "def generate_noisy_audio(audio_padded_base, audio_files_sr, audio_file_names, noise_factor=0.01):\n",
    "    #random_factor = (0, 0.1)\n",
    "    audio_padded_noisy = {}\n",
    "    for file_name in tqdm(audio_files):\n",
    "        audio_padded_noisy[file_name] = audio_padded_base[file_name] + np.random.normal(0, noise_factor, audio_padded_base[file_name].shape)\n",
    "    \n",
    "    return audio_padded_noisy"
   ]
  },
  {
   "cell_type": "code",
   "execution_count": 37,
   "metadata": {},
   "outputs": [],
   "source": [
    "def generate_timeshifted_audio(audio_padded_base, audio_files_sr, audio_file_names, random_factor=0.1):\n",
    "    #random_factor = (0, 0.5]\n",
    "    audio_timeshifted = {}\n",
    "    for file_name in tqdm(audio_files):\n",
    "        audio_timeshifted[file_name] = np.roll(audio_padded_base[file_name], int(audio_files_sr[file_name]*np.random.normal(0, 2*random_factor)*np.random.choice([-1, 1])))\n",
    "    \n",
    "    return audio_timeshifted"
   ]
  },
  {
   "cell_type": "code",
   "execution_count": 38,
   "metadata": {},
   "outputs": [],
   "source": [
    "def generate_timestretched_audio(audio_padded_base, audio_files_sr, audio_file_names, random_factor=0.6):\n",
    "    #random_factor = (0, 1)\n",
    "    audio_timestretched = {}\n",
    "    for file_name in tqdm(audio_files):\n",
    "        audio_timestretched[file_name] = librosa.util.fix_length(librosa.effects.time_stretch(audio_padded_base[file_name], rate=abs(np.random.normal(1, 2*random_factor))), size=20*audio_files_sr[file_name])\n",
    "    \n",
    "    return audio_timestretched"
   ]
  },
  {
   "cell_type": "code",
   "execution_count": 39,
   "metadata": {},
   "outputs": [],
   "source": [
    "def generate_pitchshifted_audio(audio_padded_base, audio_files_sr, audio_file_names, random_factor=4):\n",
    "    # random_factor = [0,12]\n",
    "    audio_pitchshifted = {}\n",
    "    for file_name in tqdm(audio_files):\n",
    "        audio_pitchshifted[file_name] = librosa.effects.pitch_shift(audio_padded_base[file_name], sr=audio_files_sr[file_name], n_steps=np.random.normal(0, 2*random_factor))\n",
    "    \n",
    "    return audio_pitchshifted"
   ]
  },
  {
   "cell_type": "code",
   "execution_count": 40,
   "metadata": {},
   "outputs": [
    {
     "name": "stderr",
     "output_type": "stream",
     "text": [
      "100%|██████████| 920/920 [00:25<00:00, 35.81it/s]\n",
      "  0%|          | 0/920 [00:00<?, ?it/s]c:\\Users\\mercu\\AppData\\Local\\Programs\\Python\\Python310\\lib\\site-packages\\librosa\\core\\pitch.py:101: UserWarning: Trying to estimate tuning from empty frequency set.\n",
      "  return pitch_tuning(\n",
      "100%|██████████| 920/920 [00:53<00:00, 17.19it/s]\n"
     ]
    }
   ],
   "source": [
    "spectrograms_base, spectrograms_dB_base, mfcc_base = generate_mel_features(audio_padded_base, audio_files_sr, audio_file_names)\n",
    "chromagrams_base, cens_base = generate_chroma_features(audio_padded_base, audio_files_sr, audio_file_names)"
   ]
  },
  {
   "cell_type": "code",
   "execution_count": 41,
   "metadata": {},
   "outputs": [],
   "source": [
    "spectrograms_dB_base_flattened = {}\n",
    "mfcc_base_flattened = {}\n",
    "chromagrams_base_flattened = {}\n",
    "cens_base_flattened = {}\n",
    "\n",
    "for file_name in audio_file_names:\n",
    "    spectrograms_dB_base_flattened[file_name] = spectrograms_dB_base[file_name].reshape(-1,)\n",
    "    mfcc_base_flattened[file_name] = mfcc_base[file_name].reshape(-1,)\n",
    "    chromagrams_base_flattened[file_name] = chromagrams_base[file_name].reshape(-1,)\n",
    "    cens_base_flattened[file_name] = cens_base[file_name].reshape(-1,)"
   ]
  },
  {
   "cell_type": "code",
   "execution_count": 42,
   "metadata": {},
   "outputs": [],
   "source": [
    "spectrograms_dB_base_flattened_df = pd.DataFrame(spectrograms_dB_base_flattened).T\n",
    "mfcc_base_flattened_df = pd.DataFrame(mfcc_base_flattened).T\n",
    "chromagrams_base_flattened_df = pd.DataFrame(chromagrams_base_flattened).T\n",
    "cens_base_flattened_df = pd.DataFrame(cens_base_flattened).T"
   ]
  },
  {
   "cell_type": "code",
   "execution_count": 43,
   "metadata": {},
   "outputs": [
    {
     "data": {
      "text/plain": [
       "(920, 20688)"
      ]
     },
     "execution_count": 43,
     "metadata": {},
     "output_type": "execute_result"
    }
   ],
   "source": [
    "spectrograms_dB_base_flattened_df.shape"
   ]
  },
  {
   "cell_type": "code",
   "execution_count": 44,
   "metadata": {},
   "outputs": [],
   "source": [
    "# spectrograms_dB_base_flattened_df = (spectrograms_dB_base_flattened_df - spectrograms_dB_base_flattened_df.mean())/spectrograms_dB_base_flattened_df.std()\n",
    "# mfcc_base_flattened_df = (mfcc_base_flattened_df - mfcc_base_flattened_df.mean())/mfcc_base_flattened_df.std()\n",
    "# chromagrams_base_flattened_df = (chromagrams_base_flattened_df - chromagrams_base_flattened_df.mean())/chromagrams_base_flattened_df.std()\n",
    "# cens_base_flattened_df = (cens_base_flattened_df - cens_base_flattened_df.mean())/cens_base_flattened_df.std()"
   ]
  },
  {
   "cell_type": "code",
   "execution_count": 45,
   "metadata": {},
   "outputs": [],
   "source": [
    "# filenames = []\n",
    "# for file_name in audio_file_names:\n",
    "#     filenames.append(file_name[:-4])"
   ]
  },
  {
   "cell_type": "code",
   "execution_count": 46,
   "metadata": {},
   "outputs": [],
   "source": [
    "# spectrograms_dB_base_flattened_df['filenames'] = filenames\n",
    "# mfcc_base_flattened_df['filenames'] = filenames\n",
    "# chromagrams_base_flattened_df['filenames'] = filenames\n",
    "# cens_base_flattened_df['filenames'] = filenames"
   ]
  },
  {
   "cell_type": "code",
   "execution_count": 47,
   "metadata": {},
   "outputs": [],
   "source": [
    "targets = pd.read_csv('pno_filename_to_diagnoses.csv')['diagnosis']\n",
    "targets = list(targets)\n",
    "targets"
   ]
  },
  {
   "cell_type": "code",
   "execution_count": 48,
   "metadata": {},
   "outputs": [],
   "source": [
    "spectrograms_dB_base_flattened_df['diagnosis'] = targets\n",
    "mfcc_base_flattened_df['diagnosis'] = targets\n",
    "chromagrams_base_flattened_df['diagnosis'] = targets\n",
    "cens_base_flattened_df['diagnosis'] = targets"
   ]
  },
  {
   "cell_type": "code",
   "execution_count": 49,
   "metadata": {},
   "outputs": [],
   "source": [
    "# cens_base_flattened_df = cens_base_flattened_df.dropna(axis=1)"
   ]
  },
  {
   "cell_type": "code",
   "execution_count": 50,
   "metadata": {},
   "outputs": [],
   "source": [
    "# spectrograms_dB_base_flattened_df.to_csv('spectrograms_dB_base_flattened.csv', index=False)\n",
    "# mfcc_base_flattened_df.to_csv('mfcc_base_flattened.csv', index=False)\n",
    "# chromagrams_base_flattened_df.to_csv('chromagrams_base_flattened.csv', index=False)\n",
    "# cens_base_flattened_df.to_csv('cens_base_flattened.csv', index=False)"
   ]
  },
  {
   "cell_type": "code",
   "execution_count": 51,
   "metadata": {},
   "outputs": [],
   "source": [
    "spectrograms_dB_aug_flattened_df = spectrograms_dB_base_flattened_df.copy()\n",
    "mfcc_aug_flattened_df = mfcc_base_flattened_df.copy()\n",
    "chromagrams_aug_flattened_df = chromagrams_base_flattened_df.copy()\n",
    "cens_aug_flattened_df = cens_base_flattened_df.copy()"
   ]
  },
  {
   "cell_type": "code",
   "execution_count": 52,
   "metadata": {},
   "outputs": [
    {
     "name": "stdout",
     "output_type": "stream",
     "text": [
      "Generating noisy data...\n"
     ]
    },
    {
     "name": "stderr",
     "output_type": "stream",
     "text": [
      "100%|██████████| 920/920 [00:11<00:00, 78.73it/s]\n"
     ]
    },
    {
     "name": "stdout",
     "output_type": "stream",
     "text": [
      "Data generated.\n"
     ]
    },
    {
     "name": "stderr",
     "output_type": "stream",
     "text": [
      "100%|██████████| 920/920 [00:31<00:00, 29.37it/s]\n",
      "  0%|          | 0/920 [00:00<?, ?it/s]c:\\Users\\mercu\\AppData\\Local\\Programs\\Python\\Python310\\lib\\site-packages\\librosa\\core\\pitch.py:101: UserWarning: Trying to estimate tuning from empty frequency set.\n",
      "  return pitch_tuning(\n",
      "100%|██████████| 920/920 [01:17<00:00, 11.88it/s]\n"
     ]
    },
    {
     "name": "stdout",
     "output_type": "stream",
     "text": [
      "Generating timeshifted data...\n"
     ]
    },
    {
     "name": "stderr",
     "output_type": "stream",
     "text": [
      "100%|██████████| 920/920 [00:00<00:00, 1478.97it/s]\n"
     ]
    },
    {
     "name": "stdout",
     "output_type": "stream",
     "text": [
      "Data generated.\n"
     ]
    },
    {
     "name": "stderr",
     "output_type": "stream",
     "text": [
      "100%|██████████| 920/920 [00:31<00:00, 29.34it/s]\n",
      "  0%|          | 0/920 [00:00<?, ?it/s]c:\\Users\\mercu\\AppData\\Local\\Programs\\Python\\Python310\\lib\\site-packages\\librosa\\core\\pitch.py:101: UserWarning: Trying to estimate tuning from empty frequency set.\n",
      "  return pitch_tuning(\n",
      "100%|██████████| 920/920 [01:05<00:00, 14.10it/s]\n"
     ]
    },
    {
     "name": "stdout",
     "output_type": "stream",
     "text": [
      "Generating pitchshifted data...\n"
     ]
    },
    {
     "name": "stderr",
     "output_type": "stream",
     "text": [
      "100%|██████████| 920/920 [03:23<00:00,  4.52it/s]\n"
     ]
    },
    {
     "name": "stdout",
     "output_type": "stream",
     "text": [
      "Data generated.\n"
     ]
    },
    {
     "name": "stderr",
     "output_type": "stream",
     "text": [
      "100%|██████████| 920/920 [00:27<00:00, 33.73it/s]\n",
      "  0%|          | 0/920 [00:00<?, ?it/s]c:\\Users\\mercu\\AppData\\Local\\Programs\\Python\\Python310\\lib\\site-packages\\librosa\\core\\pitch.py:101: UserWarning: Trying to estimate tuning from empty frequency set.\n",
      "  return pitch_tuning(\n",
      "100%|██████████| 920/920 [00:58<00:00, 15.74it/s]\n"
     ]
    }
   ],
   "source": [
    "categories_all = {'noisy':generate_noisy_audio, 'timeshifted':generate_timeshifted_audio, 'generate_timestretched_audio':generate_timestretched_audio, 'pitchshifted':generate_pitchshifted_audio}\n",
    "categories = {'noisy':generate_noisy_audio, 'timeshifted':generate_timeshifted_audio, 'pitchshifted':generate_pitchshifted_audio}\n",
    "\n",
    "for category in categories.keys():\n",
    "    print(f'Generating {category} data...')\n",
    "    data = categories[category](audio_padded_base, audio_files_sr, audio_file_names)\n",
    "    print(f'Data generated.')\n",
    "    \n",
    "    spectrograms_aug, spectrograms_dB_aug, mfcc_aug = generate_mel_features(data, audio_files_sr, audio_file_names)\n",
    "    chromagrams_aug, cens_aug = generate_chroma_features(data, audio_files_sr, audio_file_names)\n",
    "\n",
    "    spectrograms_dB_aug_flattened = {}\n",
    "    mfcc_aug_flattened = {}\n",
    "    chromagrams_aug_flattened = {}\n",
    "    cens_aug_flattened = {}\n",
    "\n",
    "    for file_name in audio_file_names:\n",
    "        spectrograms_dB_aug_flattened[file_name] = spectrograms_dB_aug[file_name].reshape(-1,)\n",
    "        mfcc_aug_flattened[file_name] = mfcc_aug[file_name].reshape(-1,)\n",
    "        chromagrams_aug_flattened[file_name] = chromagrams_aug[file_name].reshape(-1,)\n",
    "        cens_aug_flattened[file_name] = cens_aug[file_name].reshape(-1,)\n",
    "    \n",
    "    spectrograms_dB_aug_flattened_df_cur = pd.DataFrame(spectrograms_dB_aug_flattened).T\n",
    "    mfcc_aug_flattened_df_cur = pd.DataFrame(mfcc_aug_flattened).T\n",
    "    chromagrams_aug_flattened_df_cur = pd.DataFrame(chromagrams_aug_flattened).T\n",
    "    cens_aug_flattened_df_cur = pd.DataFrame(cens_aug_flattened).T\n",
    "\n",
    "    spectrograms_dB_aug_flattened_df_cur['diagnosis'] = targets\n",
    "    mfcc_aug_flattened_df_cur['diagnosis'] = targets\n",
    "    chromagrams_aug_flattened_df_cur['diagnosis'] = targets\n",
    "    cens_aug_flattened_df_cur['diagnosis'] = targets\n",
    "\n",
    "    spectrograms_dB_aug_flattened_df = pd.concat([spectrograms_dB_aug_flattened_df, spectrograms_dB_aug_flattened_df_cur], axis=0)\n",
    "    mfcc_aug_flattened_df = pd.concat([mfcc_aug_flattened_df, mfcc_aug_flattened_df_cur], axis=0)\n",
    "    chromagrams_aug_flattened_df = pd.concat([chromagrams_aug_flattened_df, chromagrams_aug_flattened_df_cur], axis=0)\n",
    "    cens_aug_flattened_df = pd.concat([cens_aug_flattened_df, cens_aug_flattened_df_cur], axis=0)"
   ]
  },
  {
   "cell_type": "code",
   "execution_count": 53,
   "metadata": {},
   "outputs": [
    {
     "data": {
      "text/plain": [
       "(3680, 20689)"
      ]
     },
     "execution_count": 53,
     "metadata": {},
     "output_type": "execute_result"
    }
   ],
   "source": [
    "spectrograms_dB_aug_flattened_df.shape"
   ]
  },
  {
   "cell_type": "code",
   "execution_count": 55,
   "metadata": {},
   "outputs": [
    {
     "name": "stderr",
     "output_type": "stream",
     "text": [
      "C:\\Users\\mercu\\AppData\\Local\\Temp\\ipykernel_14216\\2432444403.py:1: FutureWarning: The default value of numeric_only in DataFrame.mean is deprecated. In a future version, it will default to False. In addition, specifying 'numeric_only=None' is deprecated. Select only valid columns or specify the value of numeric_only to silence this warning.\n",
      "  spectrograms_dB_aug_flattened_df = (spectrograms_dB_aug_flattened_df -spectrograms_dB_aug_flattened_df.mean())/spectrograms_dB_aug_flattened_df.std()\n",
      "C:\\Users\\mercu\\AppData\\Local\\Temp\\ipykernel_14216\\2432444403.py:1: FutureWarning: The default value of numeric_only in DataFrame.std is deprecated. In a future version, it will default to False. In addition, specifying 'numeric_only=None' is deprecated. Select only valid columns or specify the value of numeric_only to silence this warning.\n",
      "  spectrograms_dB_aug_flattened_df = (spectrograms_dB_aug_flattened_df -spectrograms_dB_aug_flattened_df.mean())/spectrograms_dB_aug_flattened_df.std()\n",
      "C:\\Users\\mercu\\AppData\\Local\\Temp\\ipykernel_14216\\2432444403.py:2: FutureWarning: The default value of numeric_only in DataFrame.mean is deprecated. In a future version, it will default to False. In addition, specifying 'numeric_only=None' is deprecated. Select only valid columns or specify the value of numeric_only to silence this warning.\n",
      "  mfcc_aug_flattened_df = (mfcc_aug_flattened_df -mfcc_aug_flattened_df.mean())/mfcc_aug_flattened_df.std()\n",
      "C:\\Users\\mercu\\AppData\\Local\\Temp\\ipykernel_14216\\2432444403.py:2: FutureWarning: The default value of numeric_only in DataFrame.std is deprecated. In a future version, it will default to False. In addition, specifying 'numeric_only=None' is deprecated. Select only valid columns or specify the value of numeric_only to silence this warning.\n",
      "  mfcc_aug_flattened_df = (mfcc_aug_flattened_df -mfcc_aug_flattened_df.mean())/mfcc_aug_flattened_df.std()\n",
      "C:\\Users\\mercu\\AppData\\Local\\Temp\\ipykernel_14216\\2432444403.py:3: FutureWarning: The default value of numeric_only in DataFrame.mean is deprecated. In a future version, it will default to False. In addition, specifying 'numeric_only=None' is deprecated. Select only valid columns or specify the value of numeric_only to silence this warning.\n",
      "  chromagrams_aug_flattened_df = (chromagrams_aug_flattened_df -chromagrams_aug_flattened_df.mean())/chromagrams_aug_flattened_df.std()\n",
      "C:\\Users\\mercu\\AppData\\Local\\Temp\\ipykernel_14216\\2432444403.py:3: FutureWarning: The default value of numeric_only in DataFrame.std is deprecated. In a future version, it will default to False. In addition, specifying 'numeric_only=None' is deprecated. Select only valid columns or specify the value of numeric_only to silence this warning.\n",
      "  chromagrams_aug_flattened_df = (chromagrams_aug_flattened_df -chromagrams_aug_flattened_df.mean())/chromagrams_aug_flattened_df.std()\n",
      "C:\\Users\\mercu\\AppData\\Local\\Temp\\ipykernel_14216\\2432444403.py:4: FutureWarning: The default value of numeric_only in DataFrame.mean is deprecated. In a future version, it will default to False. In addition, specifying 'numeric_only=None' is deprecated. Select only valid columns or specify the value of numeric_only to silence this warning.\n",
      "  cens_aug_flattened_df = (cens_aug_flattened_df -cens_aug_flattened_df.mean())/cens_aug_flattened_df.std()\n",
      "C:\\Users\\mercu\\AppData\\Local\\Temp\\ipykernel_14216\\2432444403.py:4: FutureWarning: The default value of numeric_only in DataFrame.std is deprecated. In a future version, it will default to False. In addition, specifying 'numeric_only=None' is deprecated. Select only valid columns or specify the value of numeric_only to silence this warning.\n",
      "  cens_aug_flattened_df = (cens_aug_flattened_df -cens_aug_flattened_df.mean())/cens_aug_flattened_df.std()\n"
     ]
    }
   ],
   "source": [
    "spectrograms_dB_aug_flattened_df = (spectrograms_dB_aug_flattened_df -spectrograms_dB_aug_flattened_df.mean())/spectrograms_dB_aug_flattened_df.std()\n",
    "mfcc_aug_flattened_df = (mfcc_aug_flattened_df -mfcc_aug_flattened_df.mean())/mfcc_aug_flattened_df.std()\n",
    "chromagrams_aug_flattened_df = (chromagrams_aug_flattened_df -chromagrams_aug_flattened_df.mean())/chromagrams_aug_flattened_df.std()\n",
    "cens_aug_flattened_df = (cens_aug_flattened_df -cens_aug_flattened_df.mean())/cens_aug_flattened_df.std()"
   ]
  },
  {
   "cell_type": "code",
   "execution_count": 60,
   "metadata": {},
   "outputs": [],
   "source": [
    "spectrograms_dB_aug_flattened_df = spectrograms_dB_aug_flattened_df.dropna(axis=1)\n",
    "mfcc_aug_flattened_df = mfcc_aug_flattened_df.dropna(axis=1)\n",
    "chromagrams_aug_flattened_df = chromagrams_aug_flattened_df.dropna(axis=1)\n",
    "cens_aug_flattened_df = cens_aug_flattened_df.dropna(axis=1)"
   ]
  },
  {
   "cell_type": "code",
   "execution_count": 64,
   "metadata": {},
   "outputs": [],
   "source": [
    "targets4 = targets + targets + targets + targets"
   ]
  },
  {
   "cell_type": "code",
   "execution_count": 65,
   "metadata": {},
   "outputs": [],
   "source": [
    "spectrograms_dB_aug_flattened_df['diagnosis'] = targets4\n",
    "mfcc_aug_flattened_df['diagnosis'] = targets4\n",
    "chromagrams_aug_flattened_df['diagnosis'] = targets4\n",
    "cens_aug_flattened_df['diagnosis'] = targets4"
   ]
  },
  {
   "cell_type": "code",
   "execution_count": 66,
   "metadata": {},
   "outputs": [
    {
     "data": {
      "text/html": [
       "<div>\n",
       "<style scoped>\n",
       "    .dataframe tbody tr th:only-of-type {\n",
       "        vertical-align: middle;\n",
       "    }\n",
       "\n",
       "    .dataframe tbody tr th {\n",
       "        vertical-align: top;\n",
       "    }\n",
       "\n",
       "    .dataframe thead th {\n",
       "        text-align: right;\n",
       "    }\n",
       "</style>\n",
       "<table border=\"1\" class=\"dataframe\">\n",
       "  <thead>\n",
       "    <tr style=\"text-align: right;\">\n",
       "      <th></th>\n",
       "      <th>0</th>\n",
       "      <th>1</th>\n",
       "      <th>2</th>\n",
       "      <th>3</th>\n",
       "      <th>4</th>\n",
       "      <th>5</th>\n",
       "      <th>6</th>\n",
       "      <th>7</th>\n",
       "      <th>8</th>\n",
       "      <th>9</th>\n",
       "      <th>...</th>\n",
       "      <th>4301</th>\n",
       "      <th>4302</th>\n",
       "      <th>4303</th>\n",
       "      <th>4304</th>\n",
       "      <th>4305</th>\n",
       "      <th>4306</th>\n",
       "      <th>4307</th>\n",
       "      <th>4308</th>\n",
       "      <th>4309</th>\n",
       "      <th>diagnosis</th>\n",
       "    </tr>\n",
       "  </thead>\n",
       "  <tbody>\n",
       "    <tr>\n",
       "      <th>101_1b1_Al_sc_Meditron.wav</th>\n",
       "      <td>-0.644952</td>\n",
       "      <td>-0.681464</td>\n",
       "      <td>-0.714550</td>\n",
       "      <td>-0.744190</td>\n",
       "      <td>-0.770331</td>\n",
       "      <td>-0.792670</td>\n",
       "      <td>-0.811053</td>\n",
       "      <td>-0.825705</td>\n",
       "      <td>-0.836818</td>\n",
       "      <td>-0.844299</td>\n",
       "      <td>...</td>\n",
       "      <td>-0.549495</td>\n",
       "      <td>-0.542072</td>\n",
       "      <td>-0.528636</td>\n",
       "      <td>-0.511734</td>\n",
       "      <td>-0.490573</td>\n",
       "      <td>-0.469935</td>\n",
       "      <td>-0.445536</td>\n",
       "      <td>-0.421808</td>\n",
       "      <td>-0.394536</td>\n",
       "      <td>URTI</td>\n",
       "    </tr>\n",
       "    <tr>\n",
       "      <th>101_1b1_Pr_sc_Meditron.wav</th>\n",
       "      <td>-0.057968</td>\n",
       "      <td>-0.070735</td>\n",
       "      <td>-0.081269</td>\n",
       "      <td>-0.090314</td>\n",
       "      <td>-0.098492</td>\n",
       "      <td>-0.106362</td>\n",
       "      <td>-0.114396</td>\n",
       "      <td>-0.122967</td>\n",
       "      <td>-0.132374</td>\n",
       "      <td>-0.142513</td>\n",
       "      <td>...</td>\n",
       "      <td>-0.332613</td>\n",
       "      <td>-0.319726</td>\n",
       "      <td>-0.304935</td>\n",
       "      <td>-0.288412</td>\n",
       "      <td>-0.268456</td>\n",
       "      <td>-0.248629</td>\n",
       "      <td>-0.225605</td>\n",
       "      <td>-0.202658</td>\n",
       "      <td>-0.176072</td>\n",
       "      <td>URTI</td>\n",
       "    </tr>\n",
       "    <tr>\n",
       "      <th>102_1b1_Ar_sc_Meditron.wav</th>\n",
       "      <td>-0.157594</td>\n",
       "      <td>-0.163240</td>\n",
       "      <td>-0.169198</td>\n",
       "      <td>-0.175774</td>\n",
       "      <td>-0.183228</td>\n",
       "      <td>-0.191821</td>\n",
       "      <td>-0.201769</td>\n",
       "      <td>-0.213131</td>\n",
       "      <td>-0.225932</td>\n",
       "      <td>-0.240281</td>\n",
       "      <td>...</td>\n",
       "      <td>0.119933</td>\n",
       "      <td>0.155839</td>\n",
       "      <td>0.189829</td>\n",
       "      <td>0.221491</td>\n",
       "      <td>0.250889</td>\n",
       "      <td>0.276517</td>\n",
       "      <td>0.298781</td>\n",
       "      <td>0.317970</td>\n",
       "      <td>0.337209</td>\n",
       "      <td>Healthy</td>\n",
       "    </tr>\n",
       "    <tr>\n",
       "      <th>103_2b2_Ar_mc_LittC2SE.wav</th>\n",
       "      <td>-0.485933</td>\n",
       "      <td>-0.508909</td>\n",
       "      <td>-0.530397</td>\n",
       "      <td>-0.550472</td>\n",
       "      <td>-0.569241</td>\n",
       "      <td>-0.586844</td>\n",
       "      <td>-0.603305</td>\n",
       "      <td>-0.618510</td>\n",
       "      <td>-0.632439</td>\n",
       "      <td>-0.645170</td>\n",
       "      <td>...</td>\n",
       "      <td>-1.533696</td>\n",
       "      <td>-1.548045</td>\n",
       "      <td>-1.561627</td>\n",
       "      <td>-1.575201</td>\n",
       "      <td>-1.586271</td>\n",
       "      <td>-1.607632</td>\n",
       "      <td>-1.629972</td>\n",
       "      <td>-1.661775</td>\n",
       "      <td>-1.692703</td>\n",
       "      <td>Asthma</td>\n",
       "    </tr>\n",
       "    <tr>\n",
       "      <th>104_1b1_Al_sc_Litt3200.wav</th>\n",
       "      <td>0.213622</td>\n",
       "      <td>0.235877</td>\n",
       "      <td>0.257300</td>\n",
       "      <td>0.278909</td>\n",
       "      <td>0.299577</td>\n",
       "      <td>0.318335</td>\n",
       "      <td>0.334682</td>\n",
       "      <td>0.346910</td>\n",
       "      <td>0.351904</td>\n",
       "      <td>0.348482</td>\n",
       "      <td>...</td>\n",
       "      <td>-4.297328</td>\n",
       "      <td>-4.280075</td>\n",
       "      <td>-4.259767</td>\n",
       "      <td>-4.236438</td>\n",
       "      <td>-4.198872</td>\n",
       "      <td>-4.169642</td>\n",
       "      <td>-4.127113</td>\n",
       "      <td>-4.093511</td>\n",
       "      <td>-4.052101</td>\n",
       "      <td>COPD</td>\n",
       "    </tr>\n",
       "  </tbody>\n",
       "</table>\n",
       "<p>5 rows × 4311 columns</p>\n",
       "</div>"
      ],
      "text/plain": [
       "                                   0         1         2         3         4  \\\n",
       "101_1b1_Al_sc_Meditron.wav -0.644952 -0.681464 -0.714550 -0.744190 -0.770331   \n",
       "101_1b1_Pr_sc_Meditron.wav -0.057968 -0.070735 -0.081269 -0.090314 -0.098492   \n",
       "102_1b1_Ar_sc_Meditron.wav -0.157594 -0.163240 -0.169198 -0.175774 -0.183228   \n",
       "103_2b2_Ar_mc_LittC2SE.wav -0.485933 -0.508909 -0.530397 -0.550472 -0.569241   \n",
       "104_1b1_Al_sc_Litt3200.wav  0.213622  0.235877  0.257300  0.278909  0.299577   \n",
       "\n",
       "                                   5         6         7         8         9  \\\n",
       "101_1b1_Al_sc_Meditron.wav -0.792670 -0.811053 -0.825705 -0.836818 -0.844299   \n",
       "101_1b1_Pr_sc_Meditron.wav -0.106362 -0.114396 -0.122967 -0.132374 -0.142513   \n",
       "102_1b1_Ar_sc_Meditron.wav -0.191821 -0.201769 -0.213131 -0.225932 -0.240281   \n",
       "103_2b2_Ar_mc_LittC2SE.wav -0.586844 -0.603305 -0.618510 -0.632439 -0.645170   \n",
       "104_1b1_Al_sc_Litt3200.wav  0.318335  0.334682  0.346910  0.351904  0.348482   \n",
       "\n",
       "                            ...      4301      4302      4303      4304  \\\n",
       "101_1b1_Al_sc_Meditron.wav  ... -0.549495 -0.542072 -0.528636 -0.511734   \n",
       "101_1b1_Pr_sc_Meditron.wav  ... -0.332613 -0.319726 -0.304935 -0.288412   \n",
       "102_1b1_Ar_sc_Meditron.wav  ...  0.119933  0.155839  0.189829  0.221491   \n",
       "103_2b2_Ar_mc_LittC2SE.wav  ... -1.533696 -1.548045 -1.561627 -1.575201   \n",
       "104_1b1_Al_sc_Litt3200.wav  ... -4.297328 -4.280075 -4.259767 -4.236438   \n",
       "\n",
       "                                4305      4306      4307      4308      4309  \\\n",
       "101_1b1_Al_sc_Meditron.wav -0.490573 -0.469935 -0.445536 -0.421808 -0.394536   \n",
       "101_1b1_Pr_sc_Meditron.wav -0.268456 -0.248629 -0.225605 -0.202658 -0.176072   \n",
       "102_1b1_Ar_sc_Meditron.wav  0.250889  0.276517  0.298781  0.317970  0.337209   \n",
       "103_2b2_Ar_mc_LittC2SE.wav -1.586271 -1.607632 -1.629972 -1.661775 -1.692703   \n",
       "104_1b1_Al_sc_Litt3200.wav -4.198872 -4.169642 -4.127113 -4.093511 -4.052101   \n",
       "\n",
       "                            diagnosis  \n",
       "101_1b1_Al_sc_Meditron.wav       URTI  \n",
       "101_1b1_Pr_sc_Meditron.wav       URTI  \n",
       "102_1b1_Ar_sc_Meditron.wav    Healthy  \n",
       "103_2b2_Ar_mc_LittC2SE.wav     Asthma  \n",
       "104_1b1_Al_sc_Litt3200.wav       COPD  \n",
       "\n",
       "[5 rows x 4311 columns]"
      ]
     },
     "execution_count": 66,
     "metadata": {},
     "output_type": "execute_result"
    }
   ],
   "source": [
    "cens_aug_flattened_df.head()"
   ]
  },
  {
   "cell_type": "code",
   "execution_count": 67,
   "metadata": {},
   "outputs": [],
   "source": [
    "spectrograms_dB_aug_flattened_df.to_csv('spectrograms_dB_aug_flattened.csv', index=False)\n",
    "mfcc_aug_flattened_df.to_csv('mfcc_aug_flattened.csv', index=False)\n",
    "chromagrams_aug_flattened_df.to_csv('chromagrams_aug_flattened.csv', index=False)\n",
    "cens_aug_flattened_df.to_csv('cens_aug_flattened.csv', index=False)"
   ]
  },
  {
   "cell_type": "code",
   "execution_count": 68,
   "metadata": {},
   "outputs": [],
   "source": [
    "df_targets = pd.DataFrame(targets)"
   ]
  }
 ],
 "metadata": {
  "kernelspec": {
   "display_name": "Python 3",
   "language": "python",
   "name": "python3"
  },
  "language_info": {
   "codemirror_mode": {
    "name": "ipython",
    "version": 3
   },
   "file_extension": ".py",
   "mimetype": "text/x-python",
   "name": "python",
   "nbconvert_exporter": "python",
   "pygments_lexer": "ipython3",
   "version": "3.10.1"
  }
 },
 "nbformat": 4,
 "nbformat_minor": 2
}
